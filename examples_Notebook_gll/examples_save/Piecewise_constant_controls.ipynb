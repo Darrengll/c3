{
 "cells": [
  {
   "cell_type": "markdown",
   "metadata": {},
   "source": [
    "# Optimal control with piecewise constant parametrization"
   ]
  },
  {
   "cell_type": "code",
   "execution_count": 1,
   "metadata": {
    "ExecuteTime": {
     "end_time": "2022-06-10T08:36:49.863928Z",
     "start_time": "2022-06-10T08:36:49.858480Z"
    }
   },
   "outputs": [],
   "source": [
    "import sys\n",
    "sys.path.append('/home/llguo/PycharmProjects/c3/')"
   ]
  },
  {
   "cell_type": "code",
   "execution_count": 2,
   "metadata": {
    "ExecuteTime": {
     "end_time": "2022-06-10T08:36:53.207936Z",
     "start_time": "2022-06-10T08:36:50.497411Z"
    }
   },
   "outputs": [
    {
     "name": "stderr",
     "output_type": "stream",
     "text": [
      "2022-06-10 16:36:50.738097: W tensorflow/stream_executor/platform/default/dso_loader.cc:64] Could not load dynamic library 'libcudart.so.11.0'; dlerror: libcudart.so.11.0: cannot open shared object file: No such file or directory\n",
      "2022-06-10 16:36:50.738135: I tensorflow/stream_executor/cuda/cudart_stub.cc:29] Ignore above cudart dlerror if you do not have a GPU set up on your machine.\n"
     ]
    }
   ],
   "source": [
    "import numpy as np\n",
    "import pytest\n",
    "from c3.c3objs import Quantity\n",
    "from c3.generator.generator import Generator\n",
    "from c3.generator.devices import (\n",
    "    LO,\n",
    "    AWG,\n",
    "    Mixer,\n",
    "    DigitalToAnalog,\n",
    "    VoltsToHertz,\n",
    ")\n",
    "from c3.signal.pulse import Envelope, Carrier\n",
    "from c3.libraries.envelopes import pwc\n",
    "from c3.libraries import hamiltonians\n",
    "from c3.signal.gates import Instruction\n",
    "from c3.model import Model\n",
    "from c3.libraries import chip\n",
    "from c3.parametermap import ParameterMap\n",
    "from c3.experiment import Experiment"
   ]
  },
  {
   "cell_type": "code",
   "execution_count": 3,
   "metadata": {
    "ExecuteTime": {
     "end_time": "2022-06-10T08:37:13.635932Z",
     "start_time": "2022-06-10T08:37:13.588830Z"
    }
   },
   "outputs": [
    {
     "name": "stderr",
     "output_type": "stream",
     "text": [
      "2022-06-10 16:37:13.619280: I tensorflow/stream_executor/cuda/cuda_gpu_executor.cc:936] successful NUMA node read from SysFS had negative value (-1), but there must be at least one NUMA node, so returning NUMA node zero\n",
      "2022-06-10 16:37:13.619970: W tensorflow/stream_executor/platform/default/dso_loader.cc:64] Could not load dynamic library 'libcudart.so.11.0'; dlerror: libcudart.so.11.0: cannot open shared object file: No such file or directory\n",
      "2022-06-10 16:37:13.620047: W tensorflow/stream_executor/platform/default/dso_loader.cc:64] Could not load dynamic library 'libcublas.so.11'; dlerror: libcublas.so.11: cannot open shared object file: No such file or directory\n",
      "2022-06-10 16:37:13.620116: W tensorflow/stream_executor/platform/default/dso_loader.cc:64] Could not load dynamic library 'libcublasLt.so.11'; dlerror: libcublasLt.so.11: cannot open shared object file: No such file or directory\n",
      "2022-06-10 16:37:13.620184: W tensorflow/stream_executor/platform/default/dso_loader.cc:64] Could not load dynamic library 'libcufft.so.10'; dlerror: libcufft.so.10: cannot open shared object file: No such file or directory\n",
      "2022-06-10 16:37:13.620254: W tensorflow/stream_executor/platform/default/dso_loader.cc:64] Could not load dynamic library 'libcurand.so.10'; dlerror: libcurand.so.10: cannot open shared object file: No such file or directory\n",
      "2022-06-10 16:37:13.620323: W tensorflow/stream_executor/platform/default/dso_loader.cc:64] Could not load dynamic library 'libcusolver.so.11'; dlerror: libcusolver.so.11: cannot open shared object file: No such file or directory\n",
      "2022-06-10 16:37:13.620390: W tensorflow/stream_executor/platform/default/dso_loader.cc:64] Could not load dynamic library 'libcusparse.so.11'; dlerror: libcusparse.so.11: cannot open shared object file: No such file or directory\n",
      "2022-06-10 16:37:13.620460: W tensorflow/stream_executor/platform/default/dso_loader.cc:64] Could not load dynamic library 'libcudnn.so.8'; dlerror: libcudnn.so.8: cannot open shared object file: No such file or directory\n",
      "2022-06-10 16:37:13.620475: W tensorflow/core/common_runtime/gpu/gpu_device.cc:1850] Cannot dlopen some GPU libraries. Please make sure the missing libraries mentioned above are installed properly if you would like to use GPU. Follow the guide at https://www.tensorflow.org/install/gpu for how to download and setup the required libraries for your platform.\n",
      "Skipping registering GPU devices...\n",
      "2022-06-10 16:37:13.621165: I tensorflow/core/platform/cpu_feature_guard.cc:151] This TensorFlow binary is optimized with oneAPI Deep Neural Network Library (oneDNN) to use the following CPU instructions in performance-critical operations:  AVX2 FMA\n",
      "To enable them in other operations, rebuild TensorFlow with the appropriate compiler flags.\n"
     ]
    }
   ],
   "source": [
    "sim_res = 100e9  # Resolution for numerical simulation\n",
    "awg_res = 2e9  # Realistic, limited resolution of an AWG\n",
    "\n",
    "lo = LO(name=\"lo\", resolution=sim_res, outputs=1)\n",
    "awg = AWG(name=\"awg\", resolution=awg_res, outputs=1)\n",
    "\n",
    "dac = DigitalToAnalog(name=\"dac\", resolution=sim_res, inputs=1, outputs=1)\n",
    "mixer = Mixer(name=\"mixer\", inputs=2, outputs=1)\n",
    "v_to_hz = VoltsToHertz(\n",
    "    name=\"v_to_hz\",\n",
    "    V_to_Hz=Quantity(value=1e9, min_val=0.9e9, max_val=1.1e9, unit=\"Hz/V\"),\n",
    "    inputs=1,\n",
    "    outputs=1,\n",
    ")\n",
    "\n",
    "generator = Generator(\n",
    "    devices={\n",
    "        \"LO\": lo,\n",
    "        \"AWG\": awg,\n",
    "        \"DigitalToAnalog\": dac,\n",
    "        \"Mixer\": mixer,\n",
    "        \"VoltsToHertz\": v_to_hz,\n",
    "    },\n",
    "    chains={\n",
    "        \"d1\": {\n",
    "            \"LO\": [],\n",
    "            \"AWG\": [],\n",
    "            \"DigitalToAnalog\": [\"AWG\"],\n",
    "            \"Mixer\": [\"LO\", \"DigitalToAnalog\"],\n",
    "            \"VoltsToHertz\": [\"Mixer\"],\n",
    "        },\n",
    "    },\n",
    ")"
   ]
  },
  {
   "cell_type": "code",
   "execution_count": 4,
   "metadata": {
    "ExecuteTime": {
     "end_time": "2022-06-10T08:37:59.435925Z",
     "start_time": "2022-06-10T08:37:59.414207Z"
    }
   },
   "outputs": [],
   "source": [
    "t_final = 7e-9  # Time for single qubit gates\n",
    "slices = int(t_final * awg_res)\n",
    "\n",
    "pwc_params = {\n",
    "    \"inphase\": Quantity(value=np.random.randn(slices), unit=\"V\"),\n",
    "    \"quadrature\": Quantity(value=np.random.randn(slices), unit=\"V\"),\n",
    "    \"amp\": Quantity(value=1.0, unit=\"V\"),\n",
    "    \"xy_angle\": Quantity(\n",
    "        value=0.0, min_val=-0.5 * np.pi, max_val=2.5 * np.pi, unit=\"rad\"\n",
    "    ),\n",
    "    \"freq_offset\": Quantity(value=0, min_val=-5 * 1e6, max_val=5 * 1e6, unit=\"Hz 2pi\"),\n",
    "}\n",
    "\n",
    "pwc_env_single = Envelope(\n",
    "    name=\"pwc\",\n",
    "    desc=\"piecewise constant\",\n",
    "    params=pwc_params,\n",
    "    shape=pwc,\n",
    ")\n",
    "\n",
    "lo_freq_q1 = 5e9\n",
    "carrier_parameters = {\n",
    "    \"freq\": Quantity(value=lo_freq_q1, min_val=4.5e9, max_val=6e9, unit=\"Hz 2pi\"),\n",
    "    \"framechange\": Quantity(value=0.0, min_val=-np.pi, max_val=3 * np.pi, unit=\"rad\"),\n",
    "}\n",
    "carr = Carrier(\n",
    "    name=\"carrier\", desc=\"Frequency of the local oscillator\", params=carrier_parameters\n",
    ")\n",
    "\n",
    "pulse_gate = Instruction(name=\"rx90p\", t_start=0.0, t_end=t_final, channels=[\"d1\"])\n",
    "pulse_gate.add_component(pwc_env_single, \"d1\")\n",
    "pulse_gate.add_component(carr, \"d1\")"
   ]
  },
  {
   "cell_type": "code",
   "execution_count": 5,
   "metadata": {
    "ExecuteTime": {
     "end_time": "2022-06-10T08:38:15.287928Z",
     "start_time": "2022-06-10T08:38:15.269302Z"
    }
   },
   "outputs": [],
   "source": [
    "q1 = chip.Qubit(\n",
    "    name=\"Q1\",\n",
    "    desc=\"Qubit 1\",\n",
    "    freq=Quantity(\n",
    "        value=5e9,\n",
    "        min_val=4.995e9,\n",
    "        max_val=5.005e9,\n",
    "        unit=\"Hz 2pi\",\n",
    "    ),\n",
    "    anhar=Quantity(\n",
    "        value=-150e6,\n",
    "        min_val=-380e6,\n",
    "        max_val=-120e6,\n",
    "        unit=\"Hz 2pi\",\n",
    "    ),\n",
    "    hilbert_dim=5,\n",
    ")\n",
    "\n",
    "drive = chip.Drive(\n",
    "    name=\"d1\",\n",
    "    desc=\"Drive 1\",\n",
    "    comment=\"Drive line 1 on qubit 1\",\n",
    "    connected=[\"Q1\"],\n",
    "    hamiltonian_func=hamiltonians.x_drive,\n",
    ")\n",
    "phys_components = [q1]\n",
    "line_components = [drive]\n",
    "\n",
    "model = Model(phys_components, line_components)\n",
    "model.set_dressed(True)"
   ]
  },
  {
   "cell_type": "code",
   "execution_count": 6,
   "metadata": {
    "ExecuteTime": {
     "end_time": "2022-06-10T08:38:15.503925Z",
     "start_time": "2022-06-10T08:38:15.500245Z"
    }
   },
   "outputs": [],
   "source": [
    "parameter_map = ParameterMap(\n",
    "    instructions=[pulse_gate], model=model, generator=generator\n",
    ")\n",
    "\n",
    "# ### MAKE EXPERIMENT\n",
    "simulation = Experiment(pmap=parameter_map)"
   ]
  },
  {
   "cell_type": "code",
   "execution_count": 7,
   "metadata": {
    "ExecuteTime": {
     "end_time": "2022-06-10T08:38:21.707931Z",
     "start_time": "2022-06-10T08:38:21.701110Z"
    }
   },
   "outputs": [],
   "source": [
    "gateset_opt_map =   [\n",
    "    [\n",
    "      (\"rx90p\", \"d1\", \"pwc\", \"amp\"),\n",
    "    ],\n",
    "    [\n",
    "      (\"rx90p\", \"d1\", \"pwc\", \"inphase\"),\n",
    "    ],\n",
    "    [\n",
    "      (\"rx90p\", \"d1\", \"pwc\", \"quadrature\"),\n",
    "  ]\n",
    "]\n",
    "\n",
    "parameter_map.set_opt_map(gateset_opt_map)"
   ]
  },
  {
   "cell_type": "code",
   "execution_count": 8,
   "metadata": {
    "ExecuteTime": {
     "end_time": "2022-06-10T08:38:29.427925Z",
     "start_time": "2022-06-10T08:38:29.421280Z"
    }
   },
   "outputs": [
    {
     "name": "stdout",
     "output_type": "stream",
     "text": [
      "rx90p-d1-pwc-amp                      : 1.000 V \n",
      "rx90p-d1-pwc-inphase                  : -1.918 V -1.167 V -149.187 mV -284.080 mV 2.308 V 991.881 mV -1.491 V 376.791 mV 590.753 mV 851.293 mV 2.169 V -501.410 mV -321.815 mV -1.008 V \n",
      "rx90p-d1-pwc-quadrature               : 6.314 mV 1.479 V 99.214 mV -490.519 mV 941.755 mV 992.188 mV 648.579 mV -382.052 mV -78.458 mV 1.625 V -899.430 mV -1.449 V 782.088 mV 96.140 mV \n",
      "\n"
     ]
    }
   ],
   "source": [
    "parameter_map.print_parameters()"
   ]
  },
  {
   "cell_type": "code",
   "execution_count": 10,
   "metadata": {
    "ExecuteTime": {
     "end_time": "2022-06-10T08:38:41.827934Z",
     "start_time": "2022-06-10T08:38:41.822480Z"
    }
   },
   "outputs": [],
   "source": [
    "import os\n",
    "import tempfile\n",
    "from c3.optimizers.optimalcontrol import OptimalControl\n",
    "from c3.libraries.fidelities import unitary_infid_set\n",
    "from c3.libraries.algorithms import lbfgs\n",
    "\n",
    "# Create a temporary directory to store logfiles, modify as needed\n",
    "log_dir = os.path.join(tempfile.TemporaryDirectory().name, \"c3logs\")\n",
    "\n",
    "opt = OptimalControl(\n",
    "    dir_path=log_dir,\n",
    "    fid_func=unitary_infid_set,\n",
    "    fid_subspace=[\"Q1\"],\n",
    "    pmap=parameter_map,\n",
    "    algorithm=lbfgs,\n",
    "    options={\"maxfun\" : 150},\n",
    "    run_name=\"better_X90\"\n",
    ")\n",
    "opt.set_exp(simulation)"
   ]
  },
  {
   "cell_type": "code",
   "execution_count": 11,
   "metadata": {
    "ExecuteTime": {
     "end_time": "2022-06-10T08:38:46.539922Z",
     "start_time": "2022-06-10T08:38:46.529128Z"
    }
   },
   "outputs": [
    {
     "data": {
      "text/plain": [
       "<tf.Tensor: shape=(29,), dtype=float64, numpy=\n",
       "array([-5.55111512e-16, -9.17481883e-01, -5.94265022e-01, -1.56489009e-01,\n",
       "       -2.14527134e-01,  9.00699935e-01,  3.34460268e-01, -7.33640653e-01,\n",
       "        6.98149926e-02,  1.61873207e-01,  2.73971499e-01,  8.40987971e-01,\n",
       "       -3.08034510e-01, -2.30762998e-01, -5.25825935e-01, -5.36385367e-02,\n",
       "        8.17160894e-01,  1.30234202e-03, -3.47467057e-01,  4.99583288e-01,\n",
       "        5.29409913e-01,  3.26198530e-01, -2.83319356e-01, -1.03773416e-01,\n",
       "        9.03875194e-01, -5.89297998e-01, -9.14306624e-01,  4.05155745e-01,\n",
       "       -5.15634742e-04])>"
      ]
     },
     "execution_count": 11,
     "metadata": {},
     "output_type": "execute_result"
    }
   ],
   "source": [
    "parameter_map.get_parameters_scaled()"
   ]
  },
  {
   "cell_type": "code",
   "execution_count": 12,
   "metadata": {
    "ExecuteTime": {
     "end_time": "2022-06-10T08:39:06.651934Z",
     "start_time": "2022-06-10T08:38:49.196544Z"
    }
   },
   "outputs": [
    {
     "name": "stdout",
     "output_type": "stream",
     "text": [
      "C3:STATUS:Saving as: /tmp/tmp1zi9qlv0/c3logs/better_X90/2022_06_10_T_16_38_49/open_loop.c3log\n"
     ]
    }
   ],
   "source": [
    "opt.optimize_controls()"
   ]
  },
  {
   "cell_type": "code",
   "execution_count": 13,
   "metadata": {
    "ExecuteTime": {
     "end_time": "2022-06-10T08:39:09.239933Z",
     "start_time": "2022-06-10T08:39:09.234287Z"
    }
   },
   "outputs": [
    {
     "data": {
      "text/plain": [
       "2.064287625724859e-06"
      ]
     },
     "execution_count": 13,
     "metadata": {},
     "output_type": "execute_result"
    }
   ],
   "source": [
    "opt.current_best_goal"
   ]
  },
  {
   "cell_type": "code",
   "execution_count": 14,
   "metadata": {
    "ExecuteTime": {
     "end_time": "2022-06-10T08:39:12.583932Z",
     "start_time": "2022-06-10T08:39:12.570136Z"
    }
   },
   "outputs": [],
   "source": [
    "import matplotlib.pyplot as plt\n",
    "def plot_controls(pmap):\n",
    "    for gate, instruction in pmap.instructions.items():\n",
    "        fig, axs = plt.subplots(2)\n",
    "        axs[0].set_title(gate.replace(\"_\", \"-\"))\n",
    "        legends = [[], []]\n",
    "        for chan, channel in instruction.comps.items():\n",
    "            for com, component in channel.items():\n",
    "                if \"t_final\" in component.params:\n",
    "                    ts = np.linspace(0, t_final, slices)\n",
    "                    shape = component.get_shape_values(ts)\n",
    "                    ax = axs[0]\n",
    "                    ax.plot(ts[:len(shape)]/1e-9, np.real(shape))\n",
    "                    ax.plot(ts[:len(shape)]/1e-9, np.imag(shape))\n",
    "                    legends[0].append((chan, com.replace(\"_\", \"-\"), \"I\"))\n",
    "                    legends[0].append((chan, com.replace(\"_\", \"-\"), \"Q\"))\n",
    "                    ax = axs[1]\n",
    "                    ax.plot(ts[:len(shape)]/1e-9, np.abs(shape))\n",
    "                    ax.plot(ts[:len(shape)]/1e-9, np.angle(shape))\n",
    "                    legends[1].append((chan, com.replace(\"_\", \"-\"), \"Abs\"))\n",
    "                    legends[1].append((chan, com.replace(\"_\", \"-\"), \"Phase\"))\n",
    "        ax = axs[0]\n",
    "        ax.legend(legends[0])\n",
    "        ax = axs[1]\n",
    "        ax.set_xlabel(\"Time [ns]\")\n",
    "        ax.set_ylabel(\"Amplitude [normalized]\")\n",
    "        ax.legend(legends[1])\n",
    "\n",
    "def plot_dynamics(exp, psi_init, seq, goal=-1):\n",
    "        \"\"\"\n",
    "        Plotting code for time-resolved populations.\n",
    "\n",
    "        Parameters\n",
    "        ----------\n",
    "        psi_init: tf.Tensor\n",
    "            Initial state or density matrix.\n",
    "        seq: list\n",
    "            List of operations to apply to the initial state.\n",
    "        goal: tf.float64\n",
    "            Value of the goal function, if used.\n",
    "        debug: boolean\n",
    "            If true, return a matplotlib figure instead of saving.\n",
    "        \"\"\"\n",
    "        model = exp.pmap.model\n",
    "        exp.compute_propagators()\n",
    "        dUs = exp.partial_propagators\n",
    "        psi_t = psi_init.numpy()\n",
    "        pop_t = exp.populations(psi_t, model.lindbladian)\n",
    "        for gate in seq:\n",
    "            for du in dUs[gate]:\n",
    "                psi_t = np.matmul(du.numpy(), psi_t)\n",
    "                pops = exp.populations(psi_t, model.lindbladian)\n",
    "                pop_t = np.append(pop_t, pops, axis=1)\n",
    "\n",
    "        fig, axs = plt.subplots(1, 1)\n",
    "        ts = exp.ts\n",
    "        dt = ts[1] - ts[0]\n",
    "        ts = np.linspace(0.0, dt*pop_t.shape[1], pop_t.shape[1])\n",
    "        axs.plot(ts / 1e-9, pop_t.T)\n",
    "        axs.grid(linestyle=\"--\")\n",
    "        axs.tick_params(\n",
    "            direction=\"in\", left=True, right=True, top=True, bottom=True\n",
    "        )\n",
    "        axs.set_xlabel('Time [ns]')\n",
    "        axs.set_ylabel('Population')\n",
    "        plt.legend(model.state_labels)\n",
    "        pass"
   ]
  },
  {
   "cell_type": "code",
   "execution_count": 15,
   "metadata": {
    "ExecuteTime": {
     "end_time": "2022-06-10T08:39:16.907921Z",
     "start_time": "2022-06-10T08:39:16.657708Z"
    }
   },
   "outputs": [
    {
     "data": {
      "image/png": "[encoded data removed]",
      "text/plain": [
       "<Figure size 432x288 with 2 Axes>"
      ]
     },
     "metadata": {
      "needs_background": "light"
     },
     "output_type": "display_data"
    }
   ],
   "source": [
    "plot_controls(parameter_map)"
   ]
  },
  {
   "cell_type": "code",
   "execution_count": 16,
   "metadata": {
    "ExecuteTime": {
     "end_time": "2022-06-10T08:39:36.699928Z",
     "start_time": "2022-06-10T08:39:36.154088Z"
    }
   },
   "outputs": [
    {
     "data": {
      "image/png": "[encoded data removed]",
      "text/plain": [
       "<Figure size 432x288 with 1 Axes>"
      ]
     },
     "metadata": {
      "needs_background": "light"
     },
     "output_type": "display_data"
    }
   ],
   "source": [
    "plot_dynamics(simulation, model.get_init_state(), [\"rx90p\"])"
   ]
  },
  {
   "cell_type": "code",
   "execution_count": null,
   "metadata": {},
   "outputs": [],
   "source": []
  }
 ],
 "metadata": {
  "interpreter": {
   "hash": "31f2aee4e71d21fbe5cf8b01ff0e069b9275f58929596ceb00d14d90e3e16cd6"
  },
  "kernelspec": {
   "display_name": "SQC_in_Python",
   "language": "python",
   "name": "sqc_in_python"
  },
  "language_info": {
   "codemirror_mode": {
    "name": "ipython",
    "version": 3
   },
   "file_extension": ".py",
   "mimetype": "text/x-python",
   "name": "python",
   "nbconvert_exporter": "python",
   "pygments_lexer": "ipython3",
   "version": "3.7.5"
  },
  "toc": {
   "base_numbering": 1,
   "nav_menu": {},
   "number_sections": true,
   "sideBar": true,
   "skip_h1_title": false,
   "title_cell": "Table of Contents",
   "title_sidebar": "Contents",
   "toc_cell": false,
   "toc_position": {},
   "toc_section_display": true,
   "toc_window_display": true
  },
  "varInspector": {
   "cols": {
    "lenName": 16,
    "lenType": 16,
    "lenVar": 40
   },
   "kernels_config": {
    "python": {
     "delete_cmd_postfix": "",
     "delete_cmd_prefix": "del ",
     "library": "var_list.py",
     "varRefreshCmd": "print(var_dic_list())"
    },
    "r": {
     "delete_cmd_postfix": ") ",
     "delete_cmd_prefix": "rm(",
     "library": "var_list.r",
     "varRefreshCmd": "cat(var_dic_list()) "
    }
   },
   "types_to_exclude": [
    "module",
    "function",
    "builtin_function_or_method",
    "instance",
    "_Feature"
   ],
   "window_display": false
  }
 },
 "nbformat": 4,
 "nbformat_minor": 4
}
