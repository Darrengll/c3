{
 "cells": [
  {
   "cell_type": "markdown",
   "metadata": {},
   "source": [
    "# Complete $C^3$ Loop for a Single Superconducting Qubit"
   ]
  },
  {
   "cell_type": "markdown",
   "metadata": {},
   "source": [
    "This notebook demonstrates the key functionalities of the `c3-toolset` package as a 3-step closed loop device bring up process, outlined below:\n",
    "\n",
    "- [Model-based Open Loop Optimal Control](#Optimal-Control)\n",
    "- [Model-free Closed Loop Hardware Calibration](#Simulated-calibration)\n",
    "- [ML-based Characterization & System Identification](#Model-Learning-on-Dataset-from-a-Simulated-Experiment)"
   ]
  },
  {
   "cell_type": "code",
   "execution_count": 1,
   "metadata": {
    "ExecuteTime": {
     "end_time": "2022-06-05T04:38:04.003929Z",
     "start_time": "2022-06-05T04:38:03.999838Z"
    }
   },
   "outputs": [],
   "source": [
    "import sys\n",
    "sys.path.append('/home/llguo/PycharmProjects/c3/')"
   ]
  },
  {
   "cell_type": "code",
   "execution_count": 2,
   "metadata": {
    "ExecuteTime": {
     "end_time": "2022-06-05T04:38:08.327937Z",
     "start_time": "2022-06-05T04:38:05.314768Z"
    }
   },
   "outputs": [
    {
     "name": "stderr",
     "output_type": "stream",
     "text": [
      "2022-06-05 12:38:05.505629: W tensorflow/stream_executor/platform/default/dso_loader.cc:64] Could not load dynamic library 'libcudart.so.11.0'; dlerror: libcudart.so.11.0: cannot open shared object file: No such file or directory\n",
      "2022-06-05 12:38:05.505670: I tensorflow/stream_executor/cuda/cudart_stub.cc:29] Ignore above cudart dlerror if you do not have a GPU set up on your machine.\n"
     ]
    }
   ],
   "source": [
    "import copy\n",
    "from pprint import pprint\n",
    "import numpy as np\n",
    "import tensorflow as tf\n",
    "from c3.model import Model\n",
    "from c3.c3objs import Quantity\n",
    "from c3.parametermap import ParameterMap\n",
    "from c3.experiment import Experiment\n",
    "from c3.generator.generator import Generator\n",
    "from c3.signal import gates, pulse\n",
    "from c3.generator import devices\n",
    "from c3.libraries import chip, hamiltonians, envelopes"
   ]
  },
  {
   "cell_type": "code",
   "execution_count": 3,
   "metadata": {
    "ExecuteTime": {
     "end_time": "2022-06-05T04:38:10.479929Z",
     "start_time": "2022-06-05T04:38:10.475797Z"
    }
   },
   "outputs": [],
   "source": [
    "tf.random.set_seed(2441139)\n",
    "np.random.seed(2441139)"
   ]
  },
  {
   "cell_type": "markdown",
   "metadata": {
    "heading_collapsed": true
   },
   "source": [
    "# Optimal Control\n",
    "First, we setup some general parameters for the simulation. We'll simulate a single, three-level Transmon with frequency 5 GHz and anharmonicity -210 MHz. For signal generation, we employ an arbitrary waveform generator with 2 Gigasamples/s (or one pixel per 0.5 ns) which generates an envelope signal that is mixed with a local oscillator shifted 50 Mhz from the qubit resonance. The dynamics simultion will run at 100 Gigasamples/s. The gate time will be 7 ns. "
   ]
  },
  {
   "cell_type": "code",
   "execution_count": 4,
   "metadata": {
    "ExecuteTime": {
     "end_time": "2022-06-05T04:39:07.387937Z",
     "start_time": "2022-06-05T04:39:07.380786Z"
    },
    "hidden": true
   },
   "outputs": [],
   "source": [
    "dressed = True\n",
    "qubit_lvls = 3\n",
    "freq = 5e9\n",
    "anhar = -210e6\n",
    "qubit_temp = 0\n",
    "init_temp = 0\n",
    "t_final = 7e-9  # Time for single qubit gates\n",
    "sim_res = 100e9\n",
    "awg_res = 2e9\n",
    "sideband = 50e6\n",
    "lo_freq = 5e9 + sideband"
   ]
  },
  {
   "cell_type": "markdown",
   "metadata": {
    "hidden": true
   },
   "source": [
    "We create the Qubit and Drive objects, indicating the drive to act on the qubit and collect them in the Model."
   ]
  },
  {
   "cell_type": "code",
   "execution_count": 5,
   "metadata": {
    "ExecuteTime": {
     "end_time": "2022-06-05T04:40:25.243924Z",
     "start_time": "2022-06-05T04:40:25.185578Z"
    },
    "hidden": true
   },
   "outputs": [
    {
     "name": "stderr",
     "output_type": "stream",
     "text": [
      "2022-06-05 12:40:25.218724: I tensorflow/stream_executor/cuda/cuda_gpu_executor.cc:936] successful NUMA node read from SysFS had negative value (-1), but there must be at least one NUMA node, so returning NUMA node zero\n",
      "2022-06-05 12:40:25.219383: W tensorflow/stream_executor/platform/default/dso_loader.cc:64] Could not load dynamic library 'libcudart.so.11.0'; dlerror: libcudart.so.11.0: cannot open shared object file: No such file or directory\n",
      "2022-06-05 12:40:25.219457: W tensorflow/stream_executor/platform/default/dso_loader.cc:64] Could not load dynamic library 'libcublas.so.11'; dlerror: libcublas.so.11: cannot open shared object file: No such file or directory\n",
      "2022-06-05 12:40:25.219522: W tensorflow/stream_executor/platform/default/dso_loader.cc:64] Could not load dynamic library 'libcublasLt.so.11'; dlerror: libcublasLt.so.11: cannot open shared object file: No such file or directory\n",
      "2022-06-05 12:40:25.219586: W tensorflow/stream_executor/platform/default/dso_loader.cc:64] Could not load dynamic library 'libcufft.so.10'; dlerror: libcufft.so.10: cannot open shared object file: No such file or directory\n",
      "2022-06-05 12:40:25.219651: W tensorflow/stream_executor/platform/default/dso_loader.cc:64] Could not load dynamic library 'libcurand.so.10'; dlerror: libcurand.so.10: cannot open shared object file: No such file or directory\n",
      "2022-06-05 12:40:25.219716: W tensorflow/stream_executor/platform/default/dso_loader.cc:64] Could not load dynamic library 'libcusolver.so.11'; dlerror: libcusolver.so.11: cannot open shared object file: No such file or directory\n",
      "2022-06-05 12:40:25.219780: W tensorflow/stream_executor/platform/default/dso_loader.cc:64] Could not load dynamic library 'libcusparse.so.11'; dlerror: libcusparse.so.11: cannot open shared object file: No such file or directory\n",
      "2022-06-05 12:40:25.219844: W tensorflow/stream_executor/platform/default/dso_loader.cc:64] Could not load dynamic library 'libcudnn.so.8'; dlerror: libcudnn.so.8: cannot open shared object file: No such file or directory\n",
      "2022-06-05 12:40:25.219858: W tensorflow/core/common_runtime/gpu/gpu_device.cc:1850] Cannot dlopen some GPU libraries. Please make sure the missing libraries mentioned above are installed properly if you would like to use GPU. Follow the guide at https://www.tensorflow.org/install/gpu for how to download and setup the required libraries for your platform.\n",
      "Skipping registering GPU devices...\n",
      "2022-06-05 12:40:25.220307: I tensorflow/core/platform/cpu_feature_guard.cc:151] This TensorFlow binary is optimized with oneAPI Deep Neural Network Library (oneDNN) to use the following CPU instructions in performance-critical operations:  AVX2 FMA\n",
      "To enable them in other operations, rebuild TensorFlow with the appropriate compiler flags.\n"
     ]
    }
   ],
   "source": [
    "# ### MAKE MODEL\n",
    "q1 = chip.Qubit(\n",
    "    name=\"Q1\",\n",
    "    desc=\"Qubit 1\",\n",
    "    freq=Quantity(\n",
    "        value=freq,\n",
    "        min_val=4.995e9,\n",
    "        max_val=5.005e9,\n",
    "        unit=\"Hz 2pi\",\n",
    "    ),\n",
    "    anhar=Quantity(\n",
    "        value=anhar,\n",
    "        min_val=-380e6,\n",
    "        max_val=-120e6,\n",
    "        unit=\"Hz 2pi\",\n",
    "    ),\n",
    "    hilbert_dim=qubit_lvls,\n",
    "    temp=Quantity(value=qubit_temp, min_val=0.0, max_val=0.12, unit=\"K\"),\n",
    ")\n",
    "\n",
    "drive = chip.Drive(\n",
    "    name=\"d1\",\n",
    "    desc=\"Drive 1\",\n",
    "    comment=\"Drive line 1 on qubit 1\",\n",
    "    connected=[\"Q1\"],\n",
    "    hamiltonian_func=hamiltonians.x_drive,\n",
    ")\n",
    "phys_components = [q1]\n",
    "line_components = [drive]\n",
    "\n",
    "model = Model(phys_components, line_components)\n",
    "model.set_dressed(dressed)"
   ]
  },
  {
   "cell_type": "markdown",
   "metadata": {
    "hidden": true
   },
   "source": [
    "Signal processing is emulated by specifying the classical electronics devices and arranging them in a signal chain."
   ]
  },
  {
   "cell_type": "code",
   "execution_count": 6,
   "metadata": {
    "ExecuteTime": {
     "end_time": "2022-06-05T04:43:25.255932Z",
     "start_time": "2022-06-05T04:43:25.249005Z"
    },
    "hidden": true
   },
   "outputs": [],
   "source": [
    "generator = Generator(\n",
    "    devices={\n",
    "        \"LO\": devices.LO(name=\"lo\", resolution=sim_res, outputs=1),\n",
    "        \"AWG\": devices.AWG(name=\"awg\", resolution=awg_res, outputs=1),\n",
    "        \"DigitalToAnalog\": devices.DigitalToAnalog(\n",
    "            name=\"dac\", resolution=sim_res, inputs=1, outputs=1\n",
    "        ),\n",
    "        \"Mixer\": devices.Mixer(name=\"mixer\", inputs=2, outputs=1),\n",
    "        \"VoltsToHertz\": devices.VoltsToHertz(\n",
    "            name=\"v_to_hz\",\n",
    "            V_to_Hz=Quantity(value=1e9, min_val=0.9e9, max_val=1.1e9, unit=\"Hz/V\"),\n",
    "            inputs=1,\n",
    "            outputs=1,\n",
    "        ),\n",
    "    },\n",
    "    chains={\n",
    "        \"d1\": {\n",
    "            \"LO\": [],\n",
    "            \"AWG\": [],\n",
    "            \"DigitalToAnalog\": [\"AWG\"],\n",
    "            \"Mixer\": [\"LO\", \"DigitalToAnalog\"],\n",
    "            \"VoltsToHertz\": [\"Mixer\"],\n",
    "        }\n",
    "    },\n",
    ")"
   ]
  },
  {
   "cell_type": "markdown",
   "metadata": {
    "hidden": true
   },
   "source": [
    "Lastly, we specify the pulse parametrization and construct the gate-set, consisting of four rotations around the x and y axis of the Bloch sphere by 90 degrees in positive and negative directions."
   ]
  },
  {
   "cell_type": "code",
   "execution_count": 7,
   "metadata": {
    "ExecuteTime": {
     "end_time": "2022-06-05T04:47:29.507925Z",
     "start_time": "2022-06-05T04:47:29.473994Z"
    },
    "hidden": true
   },
   "outputs": [],
   "source": [
    "gauss_params_single = {\n",
    "    \"amp\": Quantity(value=0.45, min_val=0.35, max_val=0.5, unit=\"V\"),\n",
    "    \"t_final\": Quantity(\n",
    "        value=t_final, min_val=0.5 * t_final, max_val=1.5 * t_final, unit=\"s\"\n",
    "    ),\n",
    "    \"sigma\": Quantity(\n",
    "        value=t_final / 4, min_val=t_final / 8, max_val=t_final / 2, unit=\"s\"\n",
    "    ),\n",
    "    \"xy_angle\": Quantity(\n",
    "        value=0.0, min_val=-0.5 * np.pi, max_val=2.5 * np.pi, unit=\"rad\"\n",
    "    ),\n",
    "    \"freq_offset\": Quantity(\n",
    "        value=-sideband - 0.5e6,\n",
    "        min_val=-60 * 1e6,\n",
    "        max_val=-40 * 1e6,\n",
    "        unit=\"Hz 2pi\",\n",
    "    ),\n",
    "    \"delta\": Quantity(value=-1, min_val=-5, max_val=3, unit=\"\"),\n",
    "}\n",
    "\n",
    "gauss_env_single = pulse.EnvelopeDrag(\n",
    "    name=\"gauss\",\n",
    "    desc=\"Gaussian comp for single-qubit gates\",\n",
    "    params=gauss_params_single,\n",
    "    shape=envelopes.gaussian_nonorm,\n",
    ")\n",
    "nodrive_env = pulse.Envelope(\n",
    "    name=\"no_drive\",\n",
    "    params={\n",
    "        \"t_final\": Quantity(\n",
    "            value=t_final, min_val=0.5 * t_final, max_val=1.5 * t_final, unit=\"s\"\n",
    "        )\n",
    "    },\n",
    "    shape=envelopes.no_drive,\n",
    ")\n",
    "carrier_parameters = {\n",
    "    \"freq\": Quantity(\n",
    "        value=lo_freq,\n",
    "        min_val=4.5e9,\n",
    "        max_val=6e9,\n",
    "        unit=\"Hz 2pi\",\n",
    "    ),\n",
    "    \"framechange\": Quantity(value=0.0, min_val=-np.pi, max_val=3 * np.pi, unit=\"rad\"),\n",
    "}\n",
    "carr = pulse.Carrier(\n",
    "    name=\"carrier\",\n",
    "    desc=\"Frequency of the local oscillator\",\n",
    "    params=carrier_parameters,\n",
    ")\n",
    "\n",
    "rx90p = gates.Instruction(\n",
    "    name=\"rx90p\", t_start=0.0, t_end=t_final, channels=[\"d1\"], targets=[0]\n",
    ")\n",
    "QId = gates.Instruction(\n",
    "    name=\"id\", t_start=0.0, t_end=t_final, channels=[\"d1\"], targets=[0]\n",
    ")\n",
    "\n",
    "rx90p.add_component(gauss_env_single, \"d1\")\n",
    "rx90p.add_component(carr, \"d1\")\n",
    "QId.add_component(nodrive_env, \"d1\")\n",
    "QId.add_component(copy.deepcopy(carr), \"d1\")\n",
    "QId.comps[\"d1\"][\"carrier\"].params[\"framechange\"].set_value(\n",
    "    (-sideband * t_final) % (2 * np.pi)\n",
    ")\n",
    "ry90p = copy.deepcopy(rx90p)\n",
    "ry90p.name = \"ry90p\"\n",
    "rx90m = copy.deepcopy(rx90p)\n",
    "rx90m.name = \"rx90m\"\n",
    "ry90m = copy.deepcopy(rx90p)\n",
    "ry90m.name = \"ry90m\"\n",
    "ry90p.comps[\"d1\"][\"gauss\"].params[\"xy_angle\"].set_value(0.5 * np.pi)\n",
    "rx90m.comps[\"d1\"][\"gauss\"].params[\"xy_angle\"].set_value(np.pi)\n",
    "ry90m.comps[\"d1\"][\"gauss\"].params[\"xy_angle\"].set_value(1.5 * np.pi)\n",
    "\n",
    "parameter_map = ParameterMap(\n",
    "    instructions=[QId, rx90p, ry90p, rx90m, ry90m], model=model, generator=generator\n",
    ")\n",
    "\n",
    "# ### MAKE EXPERIMENT\n",
    "simulation = Experiment(pmap=parameter_map)"
   ]
  },
  {
   "cell_type": "markdown",
   "metadata": {
    "hidden": true
   },
   "source": [
    "To specify the optimization task, we collect the pulse parameters we wish to optimize in the `opt_map`, a nested list that groups parameters that share the same value. "
   ]
  },
  {
   "cell_type": "code",
   "execution_count": 8,
   "metadata": {
    "ExecuteTime": {
     "end_time": "2022-06-05T04:47:43.311931Z",
     "start_time": "2022-06-05T04:47:43.305654Z"
    },
    "hidden": true
   },
   "outputs": [],
   "source": [
    "gateset_opt_map =   [\n",
    "    [\n",
    "      (\"rx90p[0]\", \"d1\", \"gauss\", \"amp\"),\n",
    "      (\"ry90p[0]\", \"d1\", \"gauss\", \"amp\"),\n",
    "      (\"rx90m[0]\", \"d1\", \"gauss\", \"amp\"),\n",
    "      (\"ry90m[0]\", \"d1\", \"gauss\", \"amp\")\n",
    "    ],\n",
    "    [\n",
    "      (\"rx90p[0]\", \"d1\", \"gauss\", \"delta\"),\n",
    "      (\"ry90p[0]\", \"d1\", \"gauss\", \"delta\"),\n",
    "      (\"rx90m[0]\", \"d1\", \"gauss\", \"delta\"),\n",
    "      (\"ry90m[0]\", \"d1\", \"gauss\", \"delta\")\n",
    "    ],\n",
    "    [\n",
    "      (\"rx90p[0]\", \"d1\", \"gauss\", \"freq_offset\"),\n",
    "      (\"ry90p[0]\", \"d1\", \"gauss\", \"freq_offset\"),\n",
    "      (\"rx90m[0]\", \"d1\", \"gauss\", \"freq_offset\"),\n",
    "      (\"ry90m[0]\", \"d1\", \"gauss\", \"freq_offset\")\n",
    "    ],\n",
    "    [\n",
    "      (\"rx90p[0]\", \"d1\", \"carrier\", \"framechange\"),\n",
    "      (\"ry90p[0]\", \"d1\", \"carrier\", \"framechange\"),\n",
    "      (\"rx90m[0]\", \"d1\", \"carrier\", \"framechange\"),\n",
    "      (\"ry90m[0]\", \"d1\", \"carrier\", \"framechange\")\n",
    "    ]\n",
    "  ]\n",
    "\n",
    "parameter_map.set_opt_map(gateset_opt_map)"
   ]
  },
  {
   "cell_type": "markdown",
   "metadata": {
    "hidden": true
   },
   "source": [
    "In this example, we optimize 16 parameters in total, where each group of 4 share the same value."
   ]
  },
  {
   "cell_type": "code",
   "execution_count": 10,
   "metadata": {
    "ExecuteTime": {
     "end_time": "2022-06-05T04:48:21.155956Z",
     "start_time": "2022-06-05T04:48:21.148076Z"
    },
    "hidden": true
   },
   "outputs": [
    {
     "name": "stdout",
     "output_type": "stream",
     "text": [
      "rx90p[0]-d1-gauss-amp                 : 450.000 mV \n",
      "ry90p[0]-d1-gauss-amp\n",
      "rx90m[0]-d1-gauss-amp\n",
      "ry90m[0]-d1-gauss-amp\n",
      "\n",
      "rx90p[0]-d1-gauss-delta               : -1.000  \n",
      "ry90p[0]-d1-gauss-delta\n",
      "rx90m[0]-d1-gauss-delta\n",
      "ry90m[0]-d1-gauss-delta\n",
      "\n",
      "rx90p[0]-d1-gauss-freq_offset         : -50.500 MHz 2pi \n",
      "ry90p[0]-d1-gauss-freq_offset\n",
      "rx90m[0]-d1-gauss-freq_offset\n",
      "ry90m[0]-d1-gauss-freq_offset\n",
      "\n",
      "rx90p[0]-d1-carrier-framechange       : 0.000 rad \n",
      "ry90p[0]-d1-carrier-framechange\n",
      "rx90m[0]-d1-carrier-framechange\n",
      "ry90m[0]-d1-carrier-framechange\n",
      "\n",
      "\n"
     ]
    }
   ],
   "source": [
    "parameter_map.print_parameters()"
   ]
  },
  {
   "cell_type": "markdown",
   "metadata": {
    "hidden": true
   },
   "source": [
    "### Dynamics\n",
    "\n",
    "To investigate dynamics, we define the ground state as an initial state."
   ]
  },
  {
   "cell_type": "code",
   "execution_count": 11,
   "metadata": {
    "ExecuteTime": {
     "end_time": "2022-06-05T04:48:39.007935Z",
     "start_time": "2022-06-05T04:48:39.003312Z"
    },
    "hidden": true
   },
   "outputs": [],
   "source": [
    "import tensorflow as tf"
   ]
  },
  {
   "cell_type": "code",
   "execution_count": 12,
   "metadata": {
    "ExecuteTime": {
     "end_time": "2022-06-05T04:48:40.287928Z",
     "start_time": "2022-06-05T04:48:40.284053Z"
    },
    "hidden": true
   },
   "outputs": [],
   "source": [
    "psi_init = [[0] * 3]\n",
    "psi_init[0][0] = 1\n",
    "init_state = tf.transpose(tf.constant(psi_init, tf.complex128))"
   ]
  },
  {
   "cell_type": "code",
   "execution_count": 13,
   "metadata": {
    "ExecuteTime": {
     "end_time": "2022-06-05T04:48:40.947924Z",
     "start_time": "2022-06-05T04:48:40.941077Z"
    },
    "hidden": true
   },
   "outputs": [
    {
     "data": {
      "text/plain": [
       "<tf.Tensor: shape=(3, 1), dtype=complex128, numpy=\n",
       "array([[1.+0.j],\n",
       "       [0.+0.j],\n",
       "       [0.+0.j]])>"
      ]
     },
     "execution_count": 13,
     "metadata": {},
     "output_type": "execute_result"
    }
   ],
   "source": [
    "init_state"
   ]
  },
  {
   "cell_type": "code",
   "execution_count": 20,
   "metadata": {
    "ExecuteTime": {
     "end_time": "2022-06-05T06:38:55.847938Z",
     "start_time": "2022-06-05T06:38:55.841991Z"
    },
    "hidden": true
   },
   "outputs": [],
   "source": [
    "barely_a_seq = ['rx90p[0]']"
   ]
  },
  {
   "cell_type": "code",
   "execution_count": 21,
   "metadata": {
    "ExecuteTime": {
     "end_time": "2022-06-05T06:39:00.231928Z",
     "start_time": "2022-06-05T06:39:00.222245Z"
    },
    "hidden": true
   },
   "outputs": [],
   "source": [
    "# !pip install -q matplotlib\n",
    "\n",
    "import matplotlib.pyplot as plt\n",
    "\n",
    "def plot_dynamics(exp, psi_init, seq, goal=-1):\n",
    "        \"\"\"\n",
    "        Plotting code for time-resolved populations.\n",
    "\n",
    "        Parameters\n",
    "        ----------\n",
    "        psi_init: tf.Tensor\n",
    "            Initial state or density matrix.\n",
    "        seq: list\n",
    "            List of operations to apply to the initial state.\n",
    "        goal: tf.float64\n",
    "            Value of the goal function, if used.\n",
    "        debug: boolean\n",
    "            If true, return a matplotlib figure instead of saving.\n",
    "        \"\"\"\n",
    "        model = exp.pmap.model\n",
    "        dUs = exp.partial_propagators\n",
    "        psi_t = psi_init.numpy()\n",
    "        pop_t = exp.populations(psi_t, model.lindbladian)\n",
    "        for gate in seq:\n",
    "            for du in dUs[gate]:\n",
    "                psi_t = np.matmul(du.numpy(), psi_t)\n",
    "                pops = exp.populations(psi_t, model.lindbladian)\n",
    "                pop_t = np.append(pop_t, pops, axis=1)\n",
    "\n",
    "        fig, axs = plt.subplots(1, 1)\n",
    "        ts = exp.ts\n",
    "        dt = ts[1] - ts[0]\n",
    "        ts = np.linspace(0.0, dt*pop_t.shape[1], pop_t.shape[1])\n",
    "        axs.plot(ts / 1e-9, pop_t.T)\n",
    "        axs.grid(linestyle=\"--\")\n",
    "        axs.tick_params(\n",
    "            direction=\"in\", left=True, right=True, top=True, bottom=True\n",
    "        )\n",
    "        axs.set_xlabel('Time [ns]')\n",
    "        axs.set_ylabel('Population')\n",
    "        plt.legend(model.state_labels)\n",
    "        pass"
   ]
  },
  {
   "cell_type": "markdown",
   "metadata": {
    "hidden": true
   },
   "source": [
    "We set the simulation up to only run the `rx90p[0]` gate and simulate the dynamics."
   ]
  },
  {
   "cell_type": "code",
   "execution_count": 22,
   "metadata": {
    "ExecuteTime": {
     "end_time": "2022-06-05T06:39:22.831922Z",
     "start_time": "2022-06-05T06:39:22.770799Z"
    },
    "hidden": true
   },
   "outputs": [
    {
     "data": {
      "text/plain": [
       "{'rx90p[0]': <tf.Tensor: shape=(3, 3), dtype=complex128, numpy=\n",
       " array([[ 0.58787842-0.08273557j, -0.10158596-0.79751265j,\n",
       "          0.0315141 -0.01464672j],\n",
       "        [-0.1017262 -0.79749737j,  0.5902584 -0.06618626j,\n",
       "          0.02346579-0.01770536j],\n",
       "        [ 0.03147998-0.01457847j,  0.02349759-0.01778005j,\n",
       "         -0.99896223+0.00163568j]])>}"
      ]
     },
     "execution_count": 22,
     "metadata": {},
     "output_type": "execute_result"
    }
   ],
   "source": [
    "simulation.set_opt_gates(\"rx90p[0]\")\n",
    "simulation.compute_propagators()"
   ]
  },
  {
   "cell_type": "code",
   "execution_count": 23,
   "metadata": {
    "ExecuteTime": {
     "end_time": "2022-06-05T06:40:04.287927Z",
     "start_time": "2022-06-05T06:40:03.846223Z"
    },
    "collapsed": true,
    "hidden": true
   },
   "outputs": [
    {
     "data": {
      "image/png": "[encoded data removed]",
      "text/plain": [
       "<Figure size 432x288 with 1 Axes>"
      ]
     },
     "metadata": {
      "needs_background": "light"
     },
     "output_type": "display_data"
    }
   ],
   "source": [
    "plot_dynamics(simulation, init_state, barely_a_seq)"
   ]
  },
  {
   "cell_type": "markdown",
   "metadata": {
    "hidden": true
   },
   "source": [
    "As is, the initial guess for this gate does not provide a high fidelity."
   ]
  },
  {
   "cell_type": "markdown",
   "metadata": {
    "hidden": true
   },
   "source": [
    "### Qiskit circuit with unoptimized gates\n",
    "We can also use the simulation as a backend for a qiskit interface and perform the measurement that way."
   ]
  },
  {
   "cell_type": "code",
   "execution_count": 24,
   "metadata": {
    "ExecuteTime": {
     "end_time": "2022-06-05T06:42:25.431938Z",
     "start_time": "2022-06-05T06:42:25.242646Z"
    },
    "hidden": true
   },
   "outputs": [],
   "source": [
    "# Qiskit related modules\n",
    "from c3.qiskit import C3Provider\n",
    "from c3.qiskit.c3_gates import RX90pGate\n",
    "from qiskit import QuantumCircuit\n",
    "from qiskit.tools.visualization import plot_histogram"
   ]
  },
  {
   "cell_type": "code",
   "execution_count": 25,
   "metadata": {
    "ExecuteTime": {
     "end_time": "2022-06-05T07:02:12.643925Z",
     "start_time": "2022-06-05T07:02:12.576303Z"
    },
    "hidden": true
   },
   "outputs": [
    {
     "name": "stdout",
     "output_type": "stream",
     "text": [
      "Result from unoptimized gates:\n",
      "{'(0,)': 0.3524462056124312,\n",
      " '(1,)': 0.6463502734117953,\n",
      " '(2,)': 0.001203520975806643}\n"
     ]
    }
   ],
   "source": [
    "qc = QuantumCircuit(1)\n",
    "qc.append(RX90pGate(), [0])\n",
    "c3_provider = C3Provider()\n",
    "c3_backend = c3_provider.get_backend(\"c3_qasm_physics_simulator\")\n",
    "qiskit_exp = copy.deepcopy(simulation)\n",
    "c3_backend.set_c3_experiment(qiskit_exp)\n",
    "c3_job_unopt = c3_backend.run(qc)\n",
    "result_unopt = c3_job_unopt.result()\n",
    "res_pops_unopt = result_unopt.data()[\"state_pops\"]\n",
    "print(\"Result from unoptimized gates:\") \n",
    "pprint(res_pops_unopt)"
   ]
  },
  {
   "cell_type": "code",
   "execution_count": 26,
   "metadata": {
    "ExecuteTime": {
     "end_time": "2022-06-05T07:02:23.615930Z",
     "start_time": "2022-06-05T07:02:23.514674Z"
    },
    "hidden": true
   },
   "outputs": [
    {
     "data": {
      "image/png": "[encoded data removed]",
      "text/plain": [
       "<Figure size 504x360 with 1 Axes>"
      ]
     },
     "execution_count": 26,
     "metadata": {},
     "output_type": "execute_result"
    }
   ],
   "source": [
    "plot_histogram(res_pops_unopt, title='Simulation of Qiskit circuit with Unoptimized Gates')"
   ]
  },
  {
   "cell_type": "markdown",
   "metadata": {
    "hidden": true
   },
   "source": [
    "We select the `OptimalControl` module and set it up to run an `L-BFGS` optimization, using the overlap between ideal and actual unitary as a goal function."
   ]
  },
  {
   "cell_type": "code",
   "execution_count": 27,
   "metadata": {
    "ExecuteTime": {
     "end_time": "2022-06-05T07:06:23.011941Z",
     "start_time": "2022-06-05T07:06:22.656609Z"
    },
    "hidden": true
   },
   "outputs": [],
   "source": [
    "import os\n",
    "import tempfile\n",
    "from c3.optimizers.optimalcontrol import OptimalControl\n",
    "from c3.libraries.fidelities import unitary_infid_set\n",
    "from c3.libraries.algorithms import lbfgs\n",
    "\n",
    "# Create a temporary directory to store logfiles, modify as needed\n",
    "log_dir = os.path.join(tempfile.TemporaryDirectory().name, \"c3logs\")\n",
    "\n",
    "opt = OptimalControl(\n",
    "    dir_path=log_dir,\n",
    "    fid_func=unitary_infid_set,\n",
    "    fid_subspace=[\"Q1\"],\n",
    "    pmap=parameter_map,\n",
    "    algorithm=lbfgs,\n",
    "    options={\"maxfun\" : 300},\n",
    "    run_name=\"better_X90\"\n",
    ")\n",
    "opt.set_exp(simulation)"
   ]
  },
  {
   "cell_type": "code",
   "execution_count": 28,
   "metadata": {
    "ExecuteTime": {
     "end_time": "2022-06-05T07:10:43.303943Z",
     "start_time": "2022-06-05T07:10:31.029579Z"
    },
    "hidden": true
   },
   "outputs": [
    {
     "name": "stdout",
     "output_type": "stream",
     "text": [
      "C3:STATUS:Saving as: /tmp/tmp7o790wb1/c3logs/better_X90/2022_06_05_T_15_10_31/open_loop.c3log\n"
     ]
    }
   ],
   "source": [
    "opt.optimize_controls()"
   ]
  },
  {
   "cell_type": "code",
   "execution_count": 30,
   "metadata": {
    "ExecuteTime": {
     "end_time": "2022-06-05T07:11:23.547927Z",
     "start_time": "2022-06-05T07:11:22.970263Z"
    },
    "hidden": true
   },
   "outputs": [
    {
     "data": {
      "image/png": "[encoded data removed]",
      "text/plain": [
       "<Figure size 432x288 with 1 Axes>"
      ]
     },
     "metadata": {
      "needs_background": "light"
     },
     "output_type": "display_data"
    }
   ],
   "source": [
    "simulation.compute_propagators()\n",
    "plot_dynamics(simulation, init_state, barely_a_seq)"
   ]
  },
  {
   "cell_type": "code",
   "execution_count": 34,
   "metadata": {
    "ExecuteTime": {
     "end_time": "2022-06-05T07:14:39.455925Z",
     "start_time": "2022-06-05T07:14:39.448992Z"
    },
    "hidden": true
   },
   "outputs": [
    {
     "data": {
      "text/plain": [
       "0.0006429346364267285"
      ]
     },
     "execution_count": 34,
     "metadata": {},
     "output_type": "execute_result"
    }
   ],
   "source": [
    "opt.current_best_goal"
   ]
  },
  {
   "cell_type": "code",
   "execution_count": 35,
   "metadata": {
    "ExecuteTime": {
     "end_time": "2022-06-05T07:15:16.235930Z",
     "start_time": "2022-06-05T07:15:16.229832Z"
    },
    "hidden": true,
    "scrolled": true
   },
   "outputs": [
    {
     "name": "stdout",
     "output_type": "stream",
     "text": [
      "rx90p[0]-d1-gauss-amp                 : 376.655 mV \n",
      "ry90p[0]-d1-gauss-amp\n",
      "rx90m[0]-d1-gauss-amp\n",
      "ry90m[0]-d1-gauss-amp\n",
      "\n",
      "rx90p[0]-d1-gauss-delta               : -954.644 m \n",
      "ry90p[0]-d1-gauss-delta\n",
      "rx90m[0]-d1-gauss-delta\n",
      "ry90m[0]-d1-gauss-delta\n",
      "\n",
      "rx90p[0]-d1-gauss-freq_offset         : -50.333 MHz 2pi \n",
      "ry90p[0]-d1-gauss-freq_offset\n",
      "rx90m[0]-d1-gauss-freq_offset\n",
      "ry90m[0]-d1-gauss-freq_offset\n",
      "\n",
      "rx90p[0]-d1-carrier-framechange       : -1.479 mrad \n",
      "ry90p[0]-d1-carrier-framechange\n",
      "rx90m[0]-d1-carrier-framechange\n",
      "ry90m[0]-d1-carrier-framechange\n",
      "\n",
      "\n"
     ]
    }
   ],
   "source": [
    "parameter_map.print_parameters()"
   ]
  },
  {
   "cell_type": "markdown",
   "metadata": {
    "hidden": true
   },
   "source": [
    "### Qiskit circuit with Optimized gates"
   ]
  },
  {
   "cell_type": "code",
   "execution_count": 36,
   "metadata": {
    "ExecuteTime": {
     "end_time": "2022-06-05T07:16:31.095932Z",
     "start_time": "2022-06-05T07:16:31.030029Z"
    },
    "hidden": true
   },
   "outputs": [
    {
     "name": "stdout",
     "output_type": "stream",
     "text": [
      "Result from unoptimized gates:\n",
      "{'(0,)': 0.5008471433309558,\n",
      " '(1,)': 0.49833120674809916,\n",
      " '(2,)': 0.0008216499209475232}\n"
     ]
    }
   ],
   "source": [
    "qiskit_exp = copy.deepcopy(simulation)\n",
    "c3_backend.set_c3_experiment(qiskit_exp)\n",
    "c3_job_unopt = c3_backend.run(qc)\n",
    "result_unopt = c3_job_unopt.result()\n",
    "res_pops_unopt = result_unopt.data()[\"state_pops\"]\n",
    "print(\"Result from unoptimized gates:\") \n",
    "pprint(res_pops_unopt)"
   ]
  },
  {
   "cell_type": "code",
   "execution_count": 37,
   "metadata": {
    "ExecuteTime": {
     "end_time": "2022-06-05T07:16:38.927928Z",
     "start_time": "2022-06-05T07:16:38.833292Z"
    },
    "hidden": true
   },
   "outputs": [
    {
     "data": {
      "image/png": "[encoded data removed]",
      "text/plain": [
       "<Figure size 504x360 with 1 Axes>"
      ]
     },
     "execution_count": 37,
     "metadata": {},
     "output_type": "execute_result"
    }
   ],
   "source": [
    "plot_histogram(res_pops_unopt, title='Simulation of Qiskit circuit with Optimized Gates')"
   ]
  },
  {
   "cell_type": "markdown",
   "metadata": {},
   "source": [
    "# Simulated calibration\n",
    "\n",
    "Calibration of control pulses is the process of fine-tuning parameters in a feedback-loop with the experiment. We will simulate this process here by constructing a black-box simulation and interacting with it exactly like an experiment.\n",
    "\n",
    "We have manange imports and creation of the black-box the same way as in the previous example in a helper `single_qubit_experiment.py`."
   ]
  },
  {
   "cell_type": "code",
   "execution_count": 38,
   "metadata": {
    "ExecuteTime": {
     "end_time": "2022-06-05T07:24:05.327937Z",
     "start_time": "2022-06-05T07:24:05.291402Z"
    }
   },
   "outputs": [],
   "source": [
    "from single_qubit_experiment import create_experiment\n",
    "\n",
    "blackbox = create_experiment()"
   ]
  },
  {
   "cell_type": "markdown",
   "metadata": {},
   "source": [
    "This blackbox is constructed the same way as above. The difference will be in how we interact with it. First, we decide on what experiment we want to perform and need to specify it as a python function. A general, minimal example would be\n",
    "\n",
    "```\n",
    "def exp_communication(params):\n",
    "    # Send parameters to experiment controller\n",
    "    # and recieve a measurement result.\n",
    "    return measurement_result\n",
    " ```\n",
    "\n",
    "Again, `params` is a linear vector of bare numbers. The measurement result can be a single number or a set of results. It can also include additional information about statistics, like averaging, standard deviation, etc."
   ]
  },
  {
   "cell_type": "markdown",
   "metadata": {},
   "source": [
    "### ORBIT - Single-length randomized benchmarking\n",
    "The following defines an [ORBIT](https://arxiv.org/abs/1403.0035) procedure. In short, we define sequences of gates that result in an identity gate if our individual gates are perfect. Any deviation from identity gives us a measure of the imperfections in our gates. Our helper `qt_utils` provides these sequences."
   ]
  },
  {
   "cell_type": "code",
   "execution_count": 39,
   "metadata": {
    "ExecuteTime": {
     "end_time": "2022-06-05T07:24:12.111930Z",
     "start_time": "2022-06-05T07:24:12.107009Z"
    }
   },
   "outputs": [],
   "source": [
    "from c3.utils import qt_utils"
   ]
  },
  {
   "cell_type": "code",
   "execution_count": 40,
   "metadata": {
    "ExecuteTime": {
     "end_time": "2022-06-05T07:24:12.907923Z",
     "start_time": "2022-06-05T07:24:12.900177Z"
    }
   },
   "outputs": [
    {
     "data": {
      "text/plain": [
       "[['rx90m[0]',\n",
       "  'ry90m[0]',\n",
       "  'ry90p[0]',\n",
       "  'rx90m[0]',\n",
       "  'ry90p[0]',\n",
       "  'rx90m[0]',\n",
       "  'ry90p[0]',\n",
       "  'ry90p[0]',\n",
       "  'rx90p[0]',\n",
       "  'ry90m[0]']]"
      ]
     },
     "execution_count": 40,
     "metadata": {},
     "output_type": "execute_result"
    }
   ],
   "source": [
    "qt_utils.single_length_RB(\n",
    "            RB_number=1, RB_length=5, target=0\n",
    "    )"
   ]
  },
  {
   "cell_type": "markdown",
   "metadata": {},
   "source": [
    "The desired number of 5 gates is selected from a specific set (the Clifford group) and has to be decomposed into the available gate-set. Here, this means 4 gates per Clifford, hence a sequence of 20 gates."
   ]
  },
  {
   "cell_type": "markdown",
   "metadata": {},
   "source": [
    "### Qiskit Circuits from Sequences"
   ]
  },
  {
   "cell_type": "markdown",
   "metadata": {},
   "source": [
    "We create a helper function that translates the sequences we generated in the previous step to Qiskit Circuits which can then be used to communicate with the experiment."
   ]
  },
  {
   "cell_type": "code",
   "execution_count": 41,
   "metadata": {
    "ExecuteTime": {
     "end_time": "2022-06-05T07:25:21.323946Z",
     "start_time": "2022-06-05T07:25:21.320153Z"
    }
   },
   "outputs": [],
   "source": [
    "from c3.qiskit.c3_gates import RX90pGate, RX90mGate, RY90pGate, RY90mGate, SetParamsGate\n",
    "from qiskit import QuantumCircuit\n",
    "from typing import List"
   ]
  },
  {
   "cell_type": "code",
   "execution_count": 42,
   "metadata": {
    "ExecuteTime": {
     "end_time": "2022-06-05T07:25:22.867927Z",
     "start_time": "2022-06-05T07:25:22.863688Z"
    }
   },
   "outputs": [],
   "source": [
    "QISKIT_GATE_MAP = { \"rx90p\": RX90pGate, \"rx90m\": RX90mGate, \"ry90p\": RY90pGate, \"ry90m\": RY90mGate}"
   ]
  },
  {
   "cell_type": "code",
   "execution_count": 43,
   "metadata": {
    "ExecuteTime": {
     "end_time": "2022-06-05T07:25:58.751930Z",
     "start_time": "2022-06-05T07:25:58.746035Z"
    }
   },
   "outputs": [],
   "source": [
    "def seqs_to_circuit(seqs: List[List[str]]) -> QuantumCircuit:\n",
    "    circuits = []\n",
    "    for seq in seqs:\n",
    "        qc_sec = QuantumCircuit(1, 1)\n",
    "        for gate in seq:\n",
    "            qc_sec.append(QISKIT_GATE_MAP[gate[:-3]](), [int(gate[-2])])\n",
    "        circuits.append(qc_sec)\n",
    "    return circuits"
   ]
  },
  {
   "cell_type": "code",
   "execution_count": 51,
   "metadata": {
    "ExecuteTime": {
     "end_time": "2022-06-05T07:29:38.611927Z",
     "start_time": "2022-06-05T07:29:38.606599Z"
    }
   },
   "outputs": [
    {
     "name": "stdout",
     "output_type": "stream",
     "text": [
      "[['ry90p[0]', 'rx90p[0]', 'rx90p[0]', 'ry90p[0]', 'rx90p[0]', 'rx90p[0]'], ['rx90p[0]', 'ry90p[0]', 'rx90m[0]', 'rx90p[0]', 'ry90m[0]', 'rx90m[0]'], ['ry90m[0]', 'rx90p[0]', 'rx90p[0]', 'ry90m[0]', 'rx90p[0]', 'rx90p[0]']]\n"
     ]
    }
   ],
   "source": [
    "seqs = qt_utils.single_length_RB(\n",
    "            RB_number=3, RB_length=2, target=0\n",
    "    )\n",
    "print(seqs)"
   ]
  },
  {
   "cell_type": "code",
   "execution_count": 53,
   "metadata": {
    "ExecuteTime": {
     "end_time": "2022-06-05T07:29:52.895924Z",
     "start_time": "2022-06-05T07:29:52.887473Z"
    }
   },
   "outputs": [
    {
     "data": {
      "text/html": [
       "<pre style=\"word-wrap: normal;white-space: pre;background: #fff0;line-height: 1.1;font-family: &quot;Courier New&quot;,Courier,monospace\">     ┌─────────────┐┌────────────┐┌────────────┐┌─────────────┐┌────────────┐»\n",
       "  q: ┤ Ry90m(-π/2) ├┤ Rx90p(π/2) ├┤ Rx90p(π/2) ├┤ Ry90m(-π/2) ├┤ Rx90p(π/2) ├»\n",
       "     └─────────────┘└────────────┘└────────────┘└─────────────┘└────────────┘»\n",
       "c: 1/════════════════════════════════════════════════════════════════════════»\n",
       "                                                                             »\n",
       "«     ┌────────────┐\n",
       "«  q: ┤ Rx90p(π/2) ├\n",
       "«     └────────────┘\n",
       "«c: 1/══════════════\n",
       "«                   </pre>"
      ],
      "text/plain": [
       "     ┌─────────────┐┌────────────┐┌────────────┐┌─────────────┐┌────────────┐»\n",
       "  q: ┤ Ry90m(-π/2) ├┤ Rx90p(π/2) ├┤ Rx90p(π/2) ├┤ Ry90m(-π/2) ├┤ Rx90p(π/2) ├»\n",
       "     └─────────────┘└────────────┘└────────────┘└─────────────┘└────────────┘»\n",
       "c: 1/════════════════════════════════════════════════════════════════════════»\n",
       "                                                                             »\n",
       "«     ┌────────────┐\n",
       "«  q: ┤ Rx90p(π/2) ├\n",
       "«     └────────────┘\n",
       "«c: 1/══════════════\n",
       "«                   "
      ]
     },
     "execution_count": 53,
     "metadata": {},
     "output_type": "execute_result"
    }
   ],
   "source": [
    "circuits = seqs_to_circuit(seqs)\n",
    "circuits[2].draw()"
   ]
  },
  {
   "cell_type": "markdown",
   "metadata": {},
   "source": [
    "### Communication with the experiment\n",
    "Some of the following code is specific to the fact that this a *simulated* calibration. The interface of the `Calibration` to the experiment is simple: parameters in $\\rightarrow$ results out. We use the qiskit interface here for submitting jobs to the experiment and getting back the results, which are then processed to calculate the ORBIT goal function.\n",
    "\n",
    "The `c3.qiskit` interface provides two pulse level APIs for supplying parameters to the digital twin. One can provide the parameters and the opt_map either in the `options` field of the `backend.run()` call or use the `params` field of the `SetParamsGate` and then append that gate to the circuit. Here, we use the latter one.\n",
    "\n",
    "We limit the RB_length and RB_number below to small values to speed up the demonstration. In an actual experiment, these would be much larger values."
   ]
  },
  {
   "cell_type": "code",
   "execution_count": 54,
   "metadata": {
    "ExecuteTime": {
     "end_time": "2022-06-05T07:47:27.119942Z",
     "start_time": "2022-06-05T07:47:27.108417Z"
    }
   },
   "outputs": [],
   "source": [
    "import numpy as np\n",
    "import tensorflow as tf\n",
    "\n",
    "### ORBIT meta-parameters ###\n",
    "RB_length = 12 # How long each sequence is\n",
    "RB_number = 5  # How many sequences\n",
    "shots = 1000    # How many averages per readout\n",
    "\n",
    "orbit_provider = C3Provider()\n",
    "orbit_exp = blackbox\n",
    "orbit_backend = orbit_provider.get_backend(\"c3_qasm_physics_simulator\")\n",
    "orbit_backend.set_c3_experiment(orbit_exp)\n",
    "\n",
    "def ORBIT_qiskit(params):\n",
    "    \n",
    "    populations = []\n",
    "    results = []\n",
    "    results_std = []\n",
    "    shots_nums = []\n",
    "\n",
    "    # Creating the RB sequences\n",
    "    seqs = qt_utils.single_length_RB(\n",
    "            RB_number=RB_number, RB_length=RB_length, target=0\n",
    "    )\n",
    "    orbit_exp.set_opt_gates_seq(seqs) # speeds up the simulation of circuits\n",
    "    circuits = seqs_to_circuit(seqs)\n",
    "    params_as_dict = [param.asdict() for param in params]\n",
    "\n",
    "\n",
    "    for circuit in circuits:\n",
    "        circuit.append(SetParamsGate(params = [params_as_dict, gateset_opt_map]), [0])\n",
    "        orbit_job = orbit_backend.run(circuit)\n",
    "        orbit_result = orbit_job.result().data()[\"state_pops\"]\n",
    "        populations.append(list(orbit_result.values()))\n",
    "        \n",
    "    for pop in populations:\n",
    "        excited_pop = np.array(list(orbit_result.values())[1:]).sum() # total excited states population\n",
    "        results.append(np.array([excited_pop]))\n",
    "        results_std.append([0])\n",
    "        shots_nums.append([shots])\n",
    "\n",
    "    goal = np.mean(results) # average of the excited state populations from every circuit\n",
    "    return goal, results, results_std, seqs, shots_nums"
   ]
  },
  {
   "cell_type": "markdown",
   "metadata": {},
   "source": [
    "### Optimization\n",
    "We first import algorithms and the correct optimizer object."
   ]
  },
  {
   "cell_type": "code",
   "execution_count": 56,
   "metadata": {
    "ExecuteTime": {
     "end_time": "2022-06-05T07:47:46.627925Z",
     "start_time": "2022-06-05T07:47:46.624310Z"
    }
   },
   "outputs": [],
   "source": [
    "from c3.libraries.algorithms import cmaes\n",
    "from c3.optimizers.calibration import Calibration"
   ]
  },
  {
   "cell_type": "markdown",
   "metadata": {},
   "source": [
    "### Representation of the experiment within $C^3$\n",
    "At this point we have to make sure that the gates (\"RX90p\", etc.) and drive line (\"d1\") are compatible to the experiment controller operating the blackbox. We mirror the blackbox by creating an experiment in the $C^3$ context:"
   ]
  },
  {
   "cell_type": "markdown",
   "metadata": {},
   "source": [
    "It is important to note that in this example, we are transmitting only these four parameters to the experiment. We don't know how the blackbox will implement the pulse shapes and care has to be taken that the parameters are understood on the other end. Optionally, we could specifiy a virtual AWG within $C^3$ and transmit pixilated pulse shapes directly to the physiscal AWG."
   ]
  },
  {
   "cell_type": "markdown",
   "metadata": {},
   "source": [
    "### Algorithms\n",
    "As an optimization algoritm, we choose [CMA-Es](https://en.wikipedia.org/wiki/CMA-ES) and set up some options specific to this algorithm."
   ]
  },
  {
   "cell_type": "markdown",
   "metadata": {},
   "source": [
    "#### Maximum Evaluations\n",
    "We set the maximum number of evaluations to 30 for quick demonstration. Ideally around 250 function evaluations are useful for a good optimization. See [docs](https://c3-toolset.readthedocs.io/en/latest/Simulated_calibration.html#analysis) for a longer run."
   ]
  },
  {
   "cell_type": "code",
   "execution_count": 57,
   "metadata": {
    "ExecuteTime": {
     "end_time": "2022-06-05T07:48:09.175928Z",
     "start_time": "2022-06-05T07:48:09.169801Z"
    }
   },
   "outputs": [],
   "source": [
    "alg_options = {\n",
    "    \"popsize\" : 10,\n",
    "    \"maxfevals\" : 300,\n",
    "    \"init_point\" : \"True\",\n",
    "    \"tolfun\" : 0.01,\n",
    "    \"spread\" : 0.1\n",
    "  }"
   ]
  },
  {
   "cell_type": "markdown",
   "metadata": {},
   "source": [
    "We define the subspace as both excited states $\\{|1>,|2>\\}$, assuming read-out can distinguish between 0, 1 and 2."
   ]
  },
  {
   "cell_type": "code",
   "execution_count": 58,
   "metadata": {
    "ExecuteTime": {
     "end_time": "2022-06-05T07:48:10.471934Z",
     "start_time": "2022-06-05T07:48:10.465552Z"
    }
   },
   "outputs": [],
   "source": [
    "state_labels = {\n",
    "      \"excited\" : [(1,), (2,)]\n",
    "  }"
   ]
  },
  {
   "cell_type": "markdown",
   "metadata": {},
   "source": [
    "In the real world, this setup needs to be handled in the experiment controller side.\n",
    "We construct the optimizer object with the options we setup:"
   ]
  },
  {
   "cell_type": "code",
   "execution_count": 59,
   "metadata": {
    "ExecuteTime": {
     "end_time": "2022-06-05T07:48:15.671926Z",
     "start_time": "2022-06-05T07:48:15.668574Z"
    }
   },
   "outputs": [],
   "source": [
    "# Create a temporary directory to store logfiles, modify as needed\n",
    "log_dir = \"c3example_calibration\"\n",
    "\n",
    "opt = Calibration(\n",
    "    dir_path=log_dir,\n",
    "    run_name=\"ORBIT_cal\",\n",
    "    eval_func=ORBIT_qiskit,\n",
    "    pmap=parameter_map,\n",
    "    exp_right=simulation,\n",
    "    algorithm=cmaes,\n",
    "    options=alg_options\n",
    ")"
   ]
  },
  {
   "cell_type": "markdown",
   "metadata": {},
   "source": [
    "And run the calibration:"
   ]
  },
  {
   "cell_type": "code",
   "execution_count": 60,
   "metadata": {
    "ExecuteTime": {
     "end_time": "2022-06-05T07:48:19.027937Z",
     "start_time": "2022-06-05T07:48:19.024141Z"
    }
   },
   "outputs": [],
   "source": [
    "x = parameter_map.get_parameters_scaled()"
   ]
  },
  {
   "cell_type": "code",
   "execution_count": 64,
   "metadata": {
    "ExecuteTime": {
     "end_time": "2022-06-05T07:58:30.827922Z",
     "start_time": "2022-06-05T07:58:24.725214Z"
    },
    "collapsed": true
   },
   "outputs": [
    {
     "name": "stdout",
     "output_type": "stream",
     "text": [
      "C3:STATUS:Saving as: /home/llguo/PycharmProjects/c3/examples_Notebook_gll/examples_save/c3example_calibration/ORBIT_cal/2022_06_05_T_15_58_24/calibration.log\n",
      "(5_w,10)-aCMA-ES (mu_w=3.2,w_1=45%) in dimension 4 (seed=573165, Sun Jun  5 15:58:24 2022)\n"
     ]
    },
    {
     "ename": "FileNotFoundError",
     "evalue": "[Errno 2] No such file or directory: '/home/llguo/PycharmProjects/c3/examples_Notebook_gll/examples_save/c3example_calibration/ORBIT_cal/2022_06_05_T_15_58_24/best_point_calibration.log'",
     "output_type": "error",
     "traceback": [
      "\u001b[0;31m---------------------------------------------------------------------------\u001b[0m",
      "\u001b[0;31mFileNotFoundError\u001b[0m                         Traceback (most recent call last)",
      "\u001b[0;32m/tmp/ipykernel_30724/1854913884.py\u001b[0m in \u001b[0;36m<module>\u001b[0;34m\u001b[0m\n\u001b[0;32m----> 1\u001b[0;31m \u001b[0mopt\u001b[0m\u001b[0;34m.\u001b[0m\u001b[0moptimize_controls\u001b[0m\u001b[0;34m(\u001b[0m\u001b[0;34m)\u001b[0m\u001b[0;34m\u001b[0m\u001b[0;34m\u001b[0m\u001b[0m\n\u001b[0m",
      "\u001b[0;32m~/PycharmProjects/c3/c3/optimizers/calibration.py\u001b[0m in \u001b[0;36moptimize_controls\u001b[0;34m(self)\u001b[0m\n\u001b[1;32m    110\u001b[0m         \u001b[0;32mexcept\u001b[0m \u001b[0mKeyboardInterrupt\u001b[0m\u001b[0;34m:\u001b[0m\u001b[0;34m\u001b[0m\u001b[0;34m\u001b[0m\u001b[0m\n\u001b[1;32m    111\u001b[0m             \u001b[0;32mpass\u001b[0m\u001b[0;34m\u001b[0m\u001b[0;34m\u001b[0m\u001b[0m\n\u001b[0;32m--> 112\u001b[0;31m         \u001b[0;32mwith\u001b[0m \u001b[0mopen\u001b[0m\u001b[0;34m(\u001b[0m\u001b[0mos\u001b[0m\u001b[0;34m.\u001b[0m\u001b[0mpath\u001b[0m\u001b[0;34m.\u001b[0m\u001b[0mjoin\u001b[0m\u001b[0;34m(\u001b[0m\u001b[0mself\u001b[0m\u001b[0;34m.\u001b[0m\u001b[0mlogdir\u001b[0m\u001b[0;34m,\u001b[0m \u001b[0;34m\"best_point_\"\u001b[0m \u001b[0;34m+\u001b[0m \u001b[0mself\u001b[0m\u001b[0;34m.\u001b[0m\u001b[0mlogname\u001b[0m\u001b[0;34m)\u001b[0m\u001b[0;34m,\u001b[0m \u001b[0;34m\"r\"\u001b[0m\u001b[0;34m)\u001b[0m \u001b[0;32mas\u001b[0m \u001b[0mfile\u001b[0m\u001b[0;34m:\u001b[0m\u001b[0;34m\u001b[0m\u001b[0;34m\u001b[0m\u001b[0m\n\u001b[0m\u001b[1;32m    113\u001b[0m             best_params = hjson.load(file, object_pairs_hook=hjson_decode)[\n\u001b[1;32m    114\u001b[0m                 \u001b[0;34m\"optim_status\"\u001b[0m\u001b[0;34m\u001b[0m\u001b[0;34m\u001b[0m\u001b[0m\n",
      "\u001b[0;31mFileNotFoundError\u001b[0m: [Errno 2] No such file or directory: '/home/llguo/PycharmProjects/c3/examples_Notebook_gll/examples_save/c3example_calibration/ORBIT_cal/2022_06_05_T_15_58_24/best_point_calibration.log'"
     ]
    }
   ],
   "source": [
    "opt.optimize_controls()"
   ]
  },
  {
   "cell_type": "markdown",
   "metadata": {},
   "source": [
    "## Analysis\n",
    "The following code uses matplotlib to create an ORBIT plot from the logfile."
   ]
  },
  {
   "cell_type": "code",
   "execution_count": 63,
   "metadata": {
    "ExecuteTime": {
     "end_time": "2022-06-05T07:55:51.071922Z",
     "start_time": "2022-06-05T07:55:50.583105Z"
    }
   },
   "outputs": [
    {
     "data": {
      "text/plain": [
       "[<matplotlib.lines.Line2D at 0x7f0db207dfd0>]"
      ]
     },
     "execution_count": 63,
     "metadata": {},
     "output_type": "execute_result"
    },
    {
     "data": {
      "image/png": "[encoded data removed]",
      "text/plain": [
       "<Figure size 432x288 with 1 Axes>"
      ]
     },
     "metadata": {
      "needs_background": "light"
     },
     "output_type": "display_data"
    }
   ],
   "source": [
    "import json\n",
    "from matplotlib.ticker import MaxNLocator\n",
    "from  matplotlib import rcParams\n",
    "from matplotlib import cycler\n",
    "import matplotlib as mpl\n",
    "import matplotlib.pyplot as plt\n",
    "\n",
    "rcParams['xtick.direction'] = 'in'\n",
    "rcParams['axes.grid'] = True\n",
    "rcParams['grid.linestyle'] = '--'\n",
    "rcParams['markers.fillstyle'] = 'none'\n",
    "rcParams['axes.prop_cycle'] = cycler(\n",
    "    'linestyle', [\"-\", \"--\"]\n",
    ")\n",
    "\n",
    "# enable usetex by setting it to True if LaTeX is installed\n",
    "rcParams['text.usetex'] = False\n",
    "rcParams['font.size'] = 16\n",
    "rcParams['font.family'] = 'serif'\n",
    "\n",
    "logfilename = opt.logdir + \"calibration.log\"\n",
    "with open(logfilename, \"r\") as filename:\n",
    "    log = filename.readlines()\n",
    "    \n",
    "\n",
    "options = json.loads(log[7])\n",
    "\n",
    "goal_function = []\n",
    "batch = 0\n",
    "batch_size = options[\"popsize\"]\n",
    "\n",
    "\n",
    "eval = 0\n",
    "for line in log[9:]:\n",
    "    if line[0] == \"{\":\n",
    "        if not eval % batch_size:\n",
    "            batch = eval // batch_size\n",
    "            goal_function.append([])\n",
    "        eval += 1\n",
    "        point = json.loads(line)\n",
    "        if 'goal' in point.keys():\n",
    "            goal_function[batch].append(point['goal'])\n",
    "\n",
    "# Clean unfinished batch\n",
    "if len(goal_function[-1])<batch_size:\n",
    "    goal_function.pop(-1)\n",
    "\n",
    "fig, ax = plt.subplots(1)\n",
    "means = []\n",
    "bests = []\n",
    "for ii in range(len(goal_function)):\n",
    "    means.append(np.mean(np.array(goal_function[ii])))\n",
    "    bests.append(np.min(np.array(goal_function[ii])))\n",
    "    for pt in goal_function[ii]:\n",
    "        ax.plot(ii+1, pt, color='tab:blue', marker=\"D\", markersize=2.5, linewidth=0)\n",
    "\n",
    "ax.xaxis.set_major_locator(MaxNLocator(integer=True))\n",
    "ax.set_ylabel('ORBIT')\n",
    "ax.set_xlabel('Iterations')\n",
    "ax.plot(\n",
    "    range(1, len(goal_function)+1), bests, color=\"tab:red\", marker=\"D\",\n",
    "    markersize=5.5, linewidth=0, fillstyle='full'\n",
    ")\n"
   ]
  },
  {
   "cell_type": "markdown",
   "metadata": {},
   "source": [
    "# Model Learning on Dataset from a Simulated Experiment"
   ]
  },
  {
   "cell_type": "markdown",
   "metadata": {},
   "source": [
    "In this notebook, we will use a dataset from a simulated experiment, more specifically, the `Simulated_calibration.ipynb` example notebook and perform Model Learning on a simple 1 qubit model."
   ]
  },
  {
   "cell_type": "markdown",
   "metadata": {},
   "source": [
    "### Imports"
   ]
  },
  {
   "cell_type": "code",
   "execution_count": 42,
   "metadata": {
    "execution": {
     "iopub.execute_input": "2021-06-30T06:29:16.689570Z",
     "iopub.status.busy": "2021-06-30T06:29:16.684069Z",
     "iopub.status.idle": "2021-06-30T06:29:24.343696Z",
     "shell.execute_reply": "2021-06-30T06:29:24.343985Z"
    }
   },
   "outputs": [
    {
     "name": "stdout",
     "output_type": "stream",
     "text": [
      "\u001b[33mWARNING: You are using pip version 22.0.4; however, version 22.1.1 is available.\r\n",
      "You should consider upgrading via the '/home/users/anurag/miniconda3/envs/c3-py39/bin/python -m pip install --upgrade pip' command.\u001b[0m\u001b[33m\r\n",
      "\u001b[0m"
     ]
    }
   ],
   "source": [
    "# !pip install -q pandas\n",
    "import pickle\n",
    "from pprint import pprint\n",
    "import copy\n",
    "import numpy as np\n",
    "import os\n",
    "import ast\n",
    "import hjson\n",
    "import pandas as pd\n",
    "\n",
    "from c3.model import Model as Mdl\n",
    "from c3.c3objs import Quantity as Quantity\n",
    "from c3.parametermap import ParameterMap as PMap\n",
    "from c3.experiment import Experiment as Exp\n",
    "from c3.generator.generator import Generator as Gnr\n",
    "import c3.signal.gates as gates\n",
    "import c3.libraries.chip as chip\n",
    "import c3.generator.devices as devices\n",
    "import c3.libraries.hamiltonians as hamiltonians\n",
    "import c3.signal.pulse as pulse\n",
    "import c3.libraries.envelopes as envelopes\n",
    "import c3.libraries.tasks as tasks\n",
    "from c3.optimizers.modellearning import ModelLearning\n",
    "from c3.optimizers.sensitivity import Sensitivity"
   ]
  },
  {
   "cell_type": "markdown",
   "metadata": {},
   "source": [
    "## The Dataset"
   ]
  },
  {
   "cell_type": "markdown",
   "metadata": {},
   "source": [
    "We first take a look below at the dataset and its properties. To explore more details about how the dataset is generated, please refer to the previous section."
   ]
  },
  {
   "cell_type": "code",
   "execution_count": 43,
   "metadata": {
    "execution": {
     "iopub.execute_input": "2021-06-30T06:29:24.346337Z",
     "iopub.status.busy": "2021-06-30T06:29:24.346012Z",
     "iopub.status.idle": "2021-06-30T06:29:24.347420Z",
     "shell.execute_reply": "2021-06-30T06:29:24.347670Z"
    }
   },
   "outputs": [],
   "source": [
    "DATAFILE_PATH = \"c3example_calibration/recent/dataset.pickle\""
   ]
  },
  {
   "cell_type": "code",
   "execution_count": 44,
   "metadata": {
    "execution": {
     "iopub.execute_input": "2021-06-30T06:29:24.349797Z",
     "iopub.status.busy": "2021-06-30T06:29:24.349451Z",
     "iopub.status.idle": "2021-06-30T06:29:24.403393Z",
     "shell.execute_reply": "2021-06-30T06:29:24.403893Z"
    }
   },
   "outputs": [],
   "source": [
    "with open(DATAFILE_PATH, \"rb+\") as file:\n",
    "    data = pickle.load(file)"
   ]
  },
  {
   "cell_type": "code",
   "execution_count": 45,
   "metadata": {
    "execution": {
     "iopub.execute_input": "2021-06-30T06:29:24.414664Z",
     "iopub.status.busy": "2021-06-30T06:29:24.414128Z",
     "iopub.status.idle": "2021-06-30T06:29:24.416895Z",
     "shell.execute_reply": "2021-06-30T06:29:24.417303Z"
    }
   },
   "outputs": [
    {
     "data": {
      "text/plain": [
       "dict_keys(['seqs_grouped_by_param_set', 'opt_map'])"
      ]
     },
     "execution_count": 45,
     "metadata": {},
     "output_type": "execute_result"
    }
   ],
   "source": [
    "data.keys()"
   ]
  },
  {
   "cell_type": "markdown",
   "metadata": {},
   "source": [
    "Since this dataset was obtained from an ORBIT ([arXiv:1403.0035](https://arxiv.org/abs/1403.0035)) calibration experiment, we have the `opt_map` which will tell us about the gateset parameters being optimized."
   ]
  },
  {
   "cell_type": "code",
   "execution_count": 46,
   "metadata": {
    "execution": {
     "iopub.execute_input": "2021-06-30T06:29:24.421146Z",
     "iopub.status.busy": "2021-06-30T06:29:24.420618Z",
     "iopub.status.idle": "2021-06-30T06:29:24.423293Z",
     "shell.execute_reply": "2021-06-30T06:29:24.423687Z"
    }
   },
   "outputs": [
    {
     "data": {
      "text/plain": [
       "[['rx90p[0]-d1-gauss-amp',\n",
       "  'ry90p[0]-d1-gauss-amp',\n",
       "  'rx90m[0]-d1-gauss-amp',\n",
       "  'ry90m[0]-d1-gauss-amp'],\n",
       " ['rx90p[0]-d1-gauss-delta',\n",
       "  'ry90p[0]-d1-gauss-delta',\n",
       "  'rx90m[0]-d1-gauss-delta',\n",
       "  'ry90m[0]-d1-gauss-delta'],\n",
       " ['rx90p[0]-d1-gauss-freq_offset',\n",
       "  'ry90p[0]-d1-gauss-freq_offset',\n",
       "  'rx90m[0]-d1-gauss-freq_offset',\n",
       "  'ry90m[0]-d1-gauss-freq_offset'],\n",
       " ['rx90p[0]-d1-carrier-framechange',\n",
       "  'ry90p[0]-d1-carrier-framechange',\n",
       "  'rx90m[0]-d1-carrier-framechange',\n",
       "  'ry90m[0]-d1-carrier-framechange']]"
      ]
     },
     "execution_count": 46,
     "metadata": {},
     "output_type": "execute_result"
    }
   ],
   "source": [
    "data[\"opt_map\"]"
   ]
  },
  {
   "cell_type": "markdown",
   "metadata": {},
   "source": [
    "This `opt_map` implies the calibration experiment focussed on optimizing \n",
    "the amplitude, delta and frequency offset of the gaussian pulse, along \n",
    "with the framechange angle"
   ]
  },
  {
   "cell_type": "markdown",
   "metadata": {},
   "source": [
    "Now onto the actual measurement data from the experiment runs"
   ]
  },
  {
   "cell_type": "code",
   "execution_count": 47,
   "metadata": {
    "execution": {
     "iopub.execute_input": "2021-06-30T06:29:24.426544Z",
     "iopub.status.busy": "2021-06-30T06:29:24.426091Z",
     "iopub.status.idle": "2021-06-30T06:29:24.428263Z",
     "shell.execute_reply": "2021-06-30T06:29:24.427861Z"
    }
   },
   "outputs": [],
   "source": [
    "seqs_data = data[\"seqs_grouped_by_param_set\"]"
   ]
  },
  {
   "cell_type": "markdown",
   "metadata": {},
   "source": [
    "**How many experiment runs do we have?**"
   ]
  },
  {
   "cell_type": "code",
   "execution_count": 48,
   "metadata": {
    "execution": {
     "iopub.execute_input": "2021-06-30T06:29:24.431169Z",
     "iopub.status.busy": "2021-06-30T06:29:24.430725Z",
     "iopub.status.idle": "2021-06-30T06:29:24.433094Z",
     "shell.execute_reply": "2021-06-30T06:29:24.433444Z"
    }
   },
   "outputs": [
    {
     "data": {
      "text/plain": [
       "301"
      ]
     },
     "execution_count": 48,
     "metadata": {},
     "output_type": "execute_result"
    }
   ],
   "source": [
    "len(seqs_data)"
   ]
  },
  {
   "cell_type": "markdown",
   "metadata": {},
   "source": [
    "**What does the data from each experiment look like?**\n",
    "\n",
    "We take a look at the first data point"
   ]
  },
  {
   "cell_type": "code",
   "execution_count": 49,
   "metadata": {
    "execution": {
     "iopub.execute_input": "2021-06-30T06:29:24.436247Z",
     "iopub.status.busy": "2021-06-30T06:29:24.435800Z",
     "iopub.status.idle": "2021-06-30T06:29:24.437588Z",
     "shell.execute_reply": "2021-06-30T06:29:24.437939Z"
    }
   },
   "outputs": [],
   "source": [
    "example_data_point = seqs_data[0]"
   ]
  },
  {
   "cell_type": "code",
   "execution_count": 50,
   "metadata": {
    "execution": {
     "iopub.execute_input": "2021-06-30T06:29:24.440859Z",
     "iopub.status.busy": "2021-06-30T06:29:24.440410Z",
     "iopub.status.idle": "2021-06-30T06:29:24.443139Z",
     "shell.execute_reply": "2021-06-30T06:29:24.442720Z"
    }
   },
   "outputs": [
    {
     "data": {
      "text/plain": [
       "dict_keys(['params', 'seqs', 'results', 'results_std', 'shots'])"
      ]
     },
     "execution_count": 50,
     "metadata": {},
     "output_type": "execute_result"
    }
   ],
   "source": [
    "example_data_point.keys()"
   ]
  },
  {
   "cell_type": "markdown",
   "metadata": {},
   "source": [
    "These `keys` are useful in understanding the structure of the dataset. We look at them one by one."
   ]
  },
  {
   "cell_type": "code",
   "execution_count": 51,
   "metadata": {
    "execution": {
     "iopub.execute_input": "2021-06-30T06:29:24.447311Z",
     "iopub.status.busy": "2021-06-30T06:29:24.446850Z",
     "iopub.status.idle": "2021-06-30T06:29:24.450577Z",
     "shell.execute_reply": "2021-06-30T06:29:24.450890Z"
    }
   },
   "outputs": [
    {
     "data": {
      "text/plain": [
       "[376.655 mV, -954.644 m, -50.333 MHz 2pi, -1.479 mrad]"
      ]
     },
     "execution_count": 51,
     "metadata": {},
     "output_type": "execute_result"
    }
   ],
   "source": [
    "example_data_point[\"params\"]"
   ]
  },
  {
   "cell_type": "markdown",
   "metadata": {},
   "source": [
    "These are the parameters for our parameterised gateset, for the first experiment run. They correspond to the optimization parameters we previously discussed. "
   ]
  },
  {
   "cell_type": "markdown",
   "metadata": {},
   "source": [
    "The `seqs` key stores the sequence of gates that make up this ORBIT calibration experiment. Each ORBIT sequence consists of a set of gates, followed by a measurement operation. This is then repeated for some `n` number of shots (eg, `1000` in this case) and we only store the averaged result along with the standard deviation of these readout shots. Each experiment in turn consists of a number of these ORBIT sequences. The terms *sequence*, *set* and *experiment* are used somewhat loosely here, so we show below what these look like."
   ]
  },
  {
   "cell_type": "markdown",
   "metadata": {},
   "source": [
    "**A single ORBIT sequence**"
   ]
  },
  {
   "cell_type": "code",
   "execution_count": 52,
   "metadata": {
    "execution": {
     "iopub.execute_input": "2021-06-30T06:29:24.454002Z",
     "iopub.status.busy": "2021-06-30T06:29:24.453650Z",
     "iopub.status.idle": "2021-06-30T06:29:24.455626Z",
     "shell.execute_reply": "2021-06-30T06:29:24.455901Z"
    }
   },
   "outputs": [
    {
     "data": {
      "text/plain": [
       "['rx90m[0]',\n",
       " 'ry90m[0]',\n",
       " 'ry90m[0]',\n",
       " 'rx90p[0]',\n",
       " 'rx90p[0]',\n",
       " 'rx90p[0]',\n",
       " 'rx90p[0]',\n",
       " 'rx90p[0]',\n",
       " 'ry90p[0]',\n",
       " 'rx90m[0]']"
      ]
     },
     "execution_count": 52,
     "metadata": {},
     "output_type": "execute_result"
    }
   ],
   "source": [
    "example_data_point[\"seqs\"][0][:10]"
   ]
  },
  {
   "cell_type": "markdown",
   "metadata": {},
   "source": [
    "**Total number of ORBIT sequences in an experiment**"
   ]
  },
  {
   "cell_type": "code",
   "execution_count": 53,
   "metadata": {
    "execution": {
     "iopub.execute_input": "2021-06-30T06:29:24.458262Z",
     "iopub.status.busy": "2021-06-30T06:29:24.457903Z",
     "iopub.status.idle": "2021-06-30T06:29:24.459781Z",
     "shell.execute_reply": "2021-06-30T06:29:24.460029Z"
    }
   },
   "outputs": [
    {
     "data": {
      "text/plain": [
       "5"
      ]
     },
     "execution_count": 53,
     "metadata": {},
     "output_type": "execute_result"
    }
   ],
   "source": [
    "len(example_data_point[\"seqs\"])"
   ]
  },
  {
   "cell_type": "markdown",
   "metadata": {},
   "source": [
    "**Total number of Measurement results**"
   ]
  },
  {
   "cell_type": "code",
   "execution_count": 54,
   "metadata": {
    "execution": {
     "iopub.execute_input": "2021-06-30T06:29:24.462194Z",
     "iopub.status.busy": "2021-06-30T06:29:24.461850Z",
     "iopub.status.idle": "2021-06-30T06:29:24.463711Z",
     "shell.execute_reply": "2021-06-30T06:29:24.463958Z"
    }
   },
   "outputs": [
    {
     "data": {
      "text/plain": [
       "5"
      ]
     },
     "execution_count": 54,
     "metadata": {},
     "output_type": "execute_result"
    }
   ],
   "source": [
    "len(example_data_point[\"results\"])"
   ]
  },
  {
   "cell_type": "markdown",
   "metadata": {},
   "source": [
    "**The measurement results and the standard deviation look like this**"
   ]
  },
  {
   "cell_type": "code",
   "execution_count": 55,
   "metadata": {
    "execution": {
     "iopub.execute_input": "2021-06-30T06:29:24.466251Z",
     "iopub.status.busy": "2021-06-30T06:29:24.465932Z",
     "iopub.status.idle": "2021-06-30T06:29:24.467336Z",
     "shell.execute_reply": "2021-06-30T06:29:24.467583Z"
    }
   },
   "outputs": [],
   "source": [
    "example_results = [\n",
    "    (example_data_point[\"results\"][i], example_data_point[\"results_std\"][i])\n",
    "    for i in range(len(example_data_point[\"results\"]))\n",
    "]"
   ]
  },
  {
   "cell_type": "code",
   "execution_count": 56,
   "metadata": {
    "execution": {
     "iopub.execute_input": "2021-06-30T06:29:24.470224Z",
     "iopub.status.busy": "2021-06-30T06:29:24.469909Z",
     "iopub.status.idle": "2021-06-30T06:29:24.473051Z",
     "shell.execute_reply": "2021-06-30T06:29:24.472782Z"
    }
   },
   "outputs": [
    {
     "name": "stdout",
     "output_type": "stream",
     "text": [
      "[(array([0.02064727]), [0]),\n",
      " (array([0.02064727]), [0]),\n",
      " (array([0.02064727]), [0]),\n",
      " (array([0.02064727]), [0]),\n",
      " (array([0.02064727]), [0])]\n"
     ]
    }
   ],
   "source": [
    "pprint(example_results)"
   ]
  },
  {
   "cell_type": "markdown",
   "metadata": {},
   "source": [
    "## The Model for Model Learning"
   ]
  },
  {
   "cell_type": "markdown",
   "metadata": {},
   "source": [
    "An initial model needs to be provided, which we refine by fitting to our calibration data. We do this below. If you want to learn more about what the various components of the model mean, please refer back to the `two_qubits.ipynb` notebook or the documentation."
   ]
  },
  {
   "cell_type": "code",
   "execution_count": 57,
   "metadata": {
    "execution": {
     "iopub.execute_input": "2021-06-30T06:29:24.517795Z",
     "iopub.status.busy": "2021-06-30T06:29:24.517477Z",
     "iopub.status.idle": "2021-06-30T06:29:24.518939Z",
     "shell.execute_reply": "2021-06-30T06:29:24.519217Z"
    }
   },
   "outputs": [],
   "source": [
    "exp_opt_map = [[('Q1', 'anhar')], [('Q1', 'freq')]]\n",
    "parameter_map.set_opt_map(exp_opt_map)"
   ]
  },
  {
   "cell_type": "markdown",
   "metadata": {},
   "source": [
    "## Optimizer "
   ]
  },
  {
   "cell_type": "code",
   "execution_count": 58,
   "metadata": {
    "execution": {
     "iopub.execute_input": "2021-06-30T06:29:24.522171Z",
     "iopub.status.busy": "2021-06-30T06:29:24.521841Z",
     "iopub.status.idle": "2021-06-30T06:29:24.523305Z",
     "shell.execute_reply": "2021-06-30T06:29:24.523566Z"
    }
   },
   "outputs": [],
   "source": [
    "datafiles = {\"orbit\": DATAFILE_PATH} # path to the dataset\n",
    "run_name = \"simple_model_learning\" # name of the optimization run\n",
    "dir_path = \"ml_logs\" # path to save the learning logs\n",
    "algorithm = \"cma_pre_lbfgs\" # algorithm for learning\n",
    "# this first does a grad-free CMA-ES and then a gradient based LBFGS\n",
    "options = {\n",
    "    \"cmaes\": {\n",
    "        \"popsize\": 12,\n",
    "        \"init_point\": \"True\",\n",
    "        \"stop_at_convergence\": 10,\n",
    "        \"ftarget\": 4,\n",
    "        \"spread\": 0.05,\n",
    "        \"stop_at_sigma\": 0.01,\n",
    "    },\n",
    "    \"lbfgs\": {\"maxfun\": 50, \"disp\": 0},\n",
    "} # options for the algorithms\n",
    "sampling = \"high_std\" # how data points are chosen from the total dataset\n",
    "batch_sizes = {\"orbit\": 2} # how many data points are chosen for learning\n",
    "state_labels = {\n",
    "    \"orbit\": [\n",
    "        [\n",
    "            1,\n",
    "        ],\n",
    "        [\n",
    "            2,\n",
    "        ],\n",
    "    ]\n",
    "} # the excited states of the qubit model, in this case it is 3-level"
   ]
  },
  {
   "cell_type": "code",
   "execution_count": 59,
   "metadata": {
    "execution": {
     "iopub.execute_input": "2021-06-30T06:29:24.525945Z",
     "iopub.status.busy": "2021-06-30T06:29:24.525624Z",
     "iopub.status.idle": "2021-06-30T06:29:24.531653Z",
     "shell.execute_reply": "2021-06-30T06:29:24.531905Z"
    }
   },
   "outputs": [],
   "source": [
    "opt = ModelLearning(\n",
    "    datafiles=datafiles,\n",
    "    run_name=run_name,\n",
    "    dir_path=dir_path,\n",
    "    algorithm=algorithm,\n",
    "    options=options,\n",
    "    sampling=sampling,\n",
    "    batch_sizes=batch_sizes,\n",
    "    state_labels=state_labels,\n",
    "    pmap=parameter_map,\n",
    ")\n",
    "\n",
    "opt.set_exp(simulation)"
   ]
  },
  {
   "cell_type": "markdown",
   "metadata": {},
   "source": [
    "## Model Learning"
   ]
  },
  {
   "cell_type": "markdown",
   "metadata": {},
   "source": [
    "We are now ready to learn from the data and improve our model"
   ]
  },
  {
   "cell_type": "code",
   "execution_count": 60,
   "metadata": {
    "execution": {
     "iopub.execute_input": "2021-06-30T06:29:24.534091Z",
     "iopub.status.busy": "2021-06-30T06:29:24.533766Z",
     "iopub.status.idle": "2021-06-30T06:33:52.900803Z",
     "shell.execute_reply": "2021-06-30T06:33:52.900453Z"
    }
   },
   "outputs": [
    {
     "name": "stdout",
     "output_type": "stream",
     "text": [
      "C3:STATUS:Saving as: /home/users/anurag/dev/c3/examples/ml_logs/simple_model_learning/2022_05_22_T_18_48_50/model_learn.log\n",
      "(6_w,12)-aCMA-ES (mu_w=3.7,w_1=40%) in dimension 2 (seed=359831, Sun May 22 18:48:50 2022)\n",
      "C3:STATUS:Adding initial point to CMA sample.\n",
      "Iterat #Fevals   function value  axis ratio  sigma  min&max std  t[m:s]\n",
      "    1     13 9.856270581909850e+00 1.0e+00 3.71e-02  3e-02  3e-02 0:04.2\n",
      "    2     25 6.855955115345056e+00 1.3e+00 4.84e-02  4e-02  6e-02 0:08.4\n",
      "    3     37 6.609161573653845e+00 2.0e+00 5.50e-02  3e-02  7e-02 0:12.4\n",
      "    4     49 7.156085112108855e+00 2.6e+00 6.19e-02  3e-02  6e-02 0:16.6\n",
      "    5     61 4.792779108249936e+00 2.1e+00 8.72e-02  4e-02  1e-01 0:21.0\n",
      "    7     85 3.040485254384625e+00 4.0e+00 7.30e-02  2e-02  9e-02 0:29.2\n",
      "termination on ftarget=4\n",
      "final/bestever f-value = 3.040485e+00 3.040485e+00\n",
      "incumbent solution: [0.2741045359519472, 0.179155029914147]\n",
      "std deviation: [0.020194417500429104, 0.09104877841522444]\n",
      "C3:STATUS:Saving as: /home/users/anurag/dev/c3/examples/ml_logs/simple_model_learning/2022_05_22_T_18_48_50/confirm.log\n"
     ]
    }
   ],
   "source": [
    "opt.run()"
   ]
  },
  {
   "cell_type": "markdown",
   "metadata": {},
   "source": [
    "### Result of Model Learning"
   ]
  },
  {
   "cell_type": "code",
   "execution_count": 61,
   "metadata": {
    "execution": {
     "iopub.execute_input": "2021-06-30T06:33:52.903299Z",
     "iopub.status.busy": "2021-06-30T06:33:52.902952Z",
     "iopub.status.idle": "2021-06-30T06:33:52.904734Z",
     "shell.execute_reply": "2021-06-30T06:33:52.904981Z"
    }
   },
   "outputs": [
    {
     "data": {
      "text/plain": [
       "1.6434720582181683"
      ]
     },
     "execution_count": 61,
     "metadata": {},
     "output_type": "execute_result"
    }
   ],
   "source": [
    "opt.current_best_goal"
   ]
  },
  {
   "cell_type": "code",
   "execution_count": 62,
   "metadata": {
    "execution": {
     "iopub.execute_input": "2021-06-30T06:33:52.907388Z",
     "iopub.status.busy": "2021-06-30T06:33:52.907044Z",
     "iopub.status.idle": "2021-06-30T06:33:52.908879Z",
     "shell.execute_reply": "2021-06-30T06:33:52.909149Z"
    }
   },
   "outputs": [
    {
     "name": "stdout",
     "output_type": "stream",
     "text": [
      "Q1-anhar                              : -216.025 MHz 2pi \n",
      "Q1-freq                               : 5.001 GHz 2pi \n",
      "\n"
     ]
    }
   ],
   "source": [
    "print(opt.pmap.str_parameters(opt.pmap.opt_map))"
   ]
  },
  {
   "cell_type": "markdown",
   "metadata": {},
   "source": [
    "## Visualisation & Analysis of Results"
   ]
  },
  {
   "cell_type": "markdown",
   "metadata": {},
   "source": [
    "The Model Learning logs provide a useful way to visualise the learning process and also understand what's going wrong (or right). We now process these logs to read some data points and also plot some visualisations of the Model Learning process"
   ]
  },
  {
   "cell_type": "markdown",
   "metadata": {},
   "source": [
    "### Open, Clean-up and Convert Logfiles"
   ]
  },
  {
   "cell_type": "code",
   "execution_count": 63,
   "metadata": {},
   "outputs": [],
   "source": [
    "LOGDIR = opt.logdir"
   ]
  },
  {
   "cell_type": "code",
   "execution_count": 64,
   "metadata": {},
   "outputs": [],
   "source": [
    "logfile = os.path.join(LOGDIR, \"model_learn.log\")\n",
    "with open(logfile, \"r\") as f:\n",
    "    log = f.readlines()"
   ]
  },
  {
   "cell_type": "code",
   "execution_count": 65,
   "metadata": {},
   "outputs": [
    {
     "name": "stdout",
     "output_type": "stream",
     "text": [
      "['Q1-anhar', 'Q1-freq']\n"
     ]
    }
   ],
   "source": [
    "params_names = [\n",
    "    item for sublist in (ast.literal_eval(log[3].strip(\"\\n\"))) for item in sublist\n",
    "]\n",
    "print(params_names)"
   ]
  },
  {
   "cell_type": "code",
   "execution_count": 66,
   "metadata": {},
   "outputs": [],
   "source": [
    "data_list_dict = list()\n",
    "for line in log[9:]:\n",
    "    if line[0] == \"{\":\n",
    "        temp_dict = ast.literal_eval(line.strip(\"\\n\"))\n",
    "        for index, param_name in enumerate(params_names):\n",
    "            temp_dict[param_name] = temp_dict[\"params\"][index]\n",
    "        temp_dict.pop(\"params\")\n",
    "        data_list_dict.append(temp_dict)"
   ]
  },
  {
   "cell_type": "code",
   "execution_count": 67,
   "metadata": {},
   "outputs": [],
   "source": [
    "data_df = pd.DataFrame(data_list_dict)"
   ]
  },
  {
   "cell_type": "markdown",
   "metadata": {},
   "source": [
    "### Summary of Logs"
   ]
  },
  {
   "cell_type": "code",
   "execution_count": 68,
   "metadata": {},
   "outputs": [
    {
     "data": {
      "text/html": [
       "<div>\n",
       "<style scoped>\n",
       "    .dataframe tbody tr th:only-of-type {\n",
       "        vertical-align: middle;\n",
       "    }\n",
       "\n",
       "    .dataframe tbody tr th {\n",
       "        vertical-align: top;\n",
       "    }\n",
       "\n",
       "    .dataframe thead th {\n",
       "        text-align: right;\n",
       "    }\n",
       "</style>\n",
       "<table border=\"1\" class=\"dataframe\">\n",
       "  <thead>\n",
       "    <tr style=\"text-align: right;\">\n",
       "      <th></th>\n",
       "      <th>goal</th>\n",
       "      <th>Q1-anhar</th>\n",
       "      <th>Q1-freq</th>\n",
       "    </tr>\n",
       "  </thead>\n",
       "  <tbody>\n",
       "    <tr>\n",
       "      <th>count</th>\n",
       "      <td>104.000000</td>\n",
       "      <td>1.040000e+02</td>\n",
       "      <td>1.040000e+02</td>\n",
       "    </tr>\n",
       "    <tr>\n",
       "      <th>mean</th>\n",
       "      <td>14.157706</td>\n",
       "      <td>-2.142272e+08</td>\n",
       "      <td>5.000472e+09</td>\n",
       "    </tr>\n",
       "    <tr>\n",
       "      <th>std</th>\n",
       "      <td>13.631019</td>\n",
       "      <td>1.449102e+07</td>\n",
       "      <td>5.825012e+05</td>\n",
       "    </tr>\n",
       "    <tr>\n",
       "      <th>min</th>\n",
       "      <td>1.643472</td>\n",
       "      <td>-3.391794e+08</td>\n",
       "      <td>4.999316e+09</td>\n",
       "    </tr>\n",
       "    <tr>\n",
       "      <th>25%</th>\n",
       "      <td>6.522053</td>\n",
       "      <td>-2.158235e+08</td>\n",
       "      <td>5.000010e+09</td>\n",
       "    </tr>\n",
       "    <tr>\n",
       "      <th>50%</th>\n",
       "      <td>11.246864</td>\n",
       "      <td>-2.132483e+08</td>\n",
       "      <td>5.000374e+09</td>\n",
       "    </tr>\n",
       "    <tr>\n",
       "      <th>75%</th>\n",
       "      <td>18.790757</td>\n",
       "      <td>-2.094547e+08</td>\n",
       "      <td>5.000940e+09</td>\n",
       "    </tr>\n",
       "    <tr>\n",
       "      <th>max</th>\n",
       "      <td>93.703180</td>\n",
       "      <td>-1.991852e+08</td>\n",
       "      <td>5.002530e+09</td>\n",
       "    </tr>\n",
       "  </tbody>\n",
       "</table>\n",
       "</div>"
      ],
      "text/plain": [
       "             goal      Q1-anhar       Q1-freq\n",
       "count  104.000000  1.040000e+02  1.040000e+02\n",
       "mean    14.157706 -2.142272e+08  5.000472e+09\n",
       "std     13.631019  1.449102e+07  5.825012e+05\n",
       "min      1.643472 -3.391794e+08  4.999316e+09\n",
       "25%      6.522053 -2.158235e+08  5.000010e+09\n",
       "50%     11.246864 -2.132483e+08  5.000374e+09\n",
       "75%     18.790757 -2.094547e+08  5.000940e+09\n",
       "max     93.703180 -1.991852e+08  5.002530e+09"
      ]
     },
     "execution_count": 68,
     "metadata": {},
     "output_type": "execute_result"
    }
   ],
   "source": [
    "data_df.describe()"
   ]
  },
  {
   "cell_type": "markdown",
   "metadata": {},
   "source": [
    "**Best Point**"
   ]
  },
  {
   "cell_type": "code",
   "execution_count": 69,
   "metadata": {},
   "outputs": [],
   "source": [
    "best_point_file = os.path.join(LOGDIR, 'best_point_model_learn.log')"
   ]
  },
  {
   "cell_type": "code",
   "execution_count": 70,
   "metadata": {},
   "outputs": [
    {
     "name": "stdout",
     "output_type": "stream",
     "text": [
      "{'Q1-anhar': -216024919.35748398, 'Q1-freq': 5001344479.897712, 'goal': 1.6434720582181683}\n"
     ]
    }
   ],
   "source": [
    "with open(best_point_file, \"r\") as f:\n",
    "    best_point_log_dict = hjson.load(f)\n",
    "\n",
    "best_point_dict = dict(zip(params_names, best_point_log_dict[\"optim_status\"][\"params\"]))\n",
    "best_point_dict[\"goal\"] = best_point_log_dict[\"optim_status\"][\"goal\"]\n",
    "print(best_point_dict)"
   ]
  },
  {
   "cell_type": "markdown",
   "metadata": {},
   "source": [
    "### Plotting"
   ]
  },
  {
   "cell_type": "markdown",
   "metadata": {},
   "source": [
    "We use `matplotlib` to produce the plots below. Please make sure you have the same installed in your python environment."
   ]
  },
  {
   "cell_type": "code",
   "execution_count": 71,
   "metadata": {},
   "outputs": [],
   "source": [
    "from matplotlib.ticker import MaxNLocator\n",
    "from  matplotlib import rcParams\n",
    "from matplotlib import cycler\n",
    "import matplotlib as mpl\n",
    "import matplotlib.pyplot as plt "
   ]
  },
  {
   "cell_type": "code",
   "execution_count": 72,
   "metadata": {},
   "outputs": [],
   "source": [
    "rcParams[\"axes.grid\"] = True\n",
    "rcParams[\"grid.linestyle\"] = \"--\"\n",
    "\n",
    "# enable usetex by setting it to True if LaTeX is installed\n",
    "rcParams[\"text.usetex\"] = False\n",
    "rcParams[\"font.size\"] = 16\n",
    "rcParams[\"font.family\"] = \"serif\""
   ]
  },
  {
   "cell_type": "markdown",
   "metadata": {},
   "source": [
    "**In the plots below, the blue line shows the progress of the parameter optimization while the black and the red lines indicate the converged and true value respectively**"
   ]
  },
  {
   "cell_type": "markdown",
   "metadata": {},
   "source": [
    "### Qubit Anharmonicity"
   ]
  },
  {
   "cell_type": "code",
   "execution_count": 73,
   "metadata": {},
   "outputs": [
    {
     "data": {
      "text/plain": [
       "[<matplotlib.lines.Line2D at 0x7f1cc5df14f0>]"
      ]
     },
     "execution_count": 73,
     "metadata": {},
     "output_type": "execute_result"
    },
    {
     "data": {
      "image/png": "[encoded data removed]",
      "text/plain": [
       "<Figure size 432x288 with 1 Axes>"
      ]
     },
     "metadata": {
      "needs_background": "light"
     },
     "output_type": "display_data"
    }
   ],
   "source": [
    "plot_item = \"Q1-anhar\"\n",
    "true_value = -210e6\n",
    "\n",
    "fig, ax = plt.subplots(1)\n",
    "ax.set_xlabel(\"Iteration\")\n",
    "ax.set_ylabel(plot_item)\n",
    "ax.axhline(y=true_value, color=\"black\", linestyle=\"--\")\n",
    "ax.axhline(y=best_point_dict[plot_item], color=\"tab:red\", linestyle=\"-.\")\n",
    "ax.plot(data_df[plot_item], color=\"tab:blue\")"
   ]
  },
  {
   "cell_type": "markdown",
   "metadata": {},
   "source": [
    "### Qubit Frequency"
   ]
  },
  {
   "cell_type": "code",
   "execution_count": 74,
   "metadata": {},
   "outputs": [
    {
     "data": {
      "text/plain": [
       "[<matplotlib.lines.Line2D at 0x7f1cc5f22790>]"
      ]
     },
     "execution_count": 74,
     "metadata": {},
     "output_type": "execute_result"
    },
    {
     "data": {
      "image/png": "[encoded data removed]",
      "text/plain": [
       "<Figure size 432x288 with 1 Axes>"
      ]
     },
     "metadata": {
      "needs_background": "light"
     },
     "output_type": "display_data"
    }
   ],
   "source": [
    "plot_item = \"Q1-freq\"\n",
    "true_value = 5e9\n",
    "\n",
    "fig, ax = plt.subplots(1)\n",
    "ax.set_xlabel(\"Iteration\")\n",
    "ax.set_ylabel(plot_item)\n",
    "ax.axhline(y=true_value, color=\"black\", linestyle=\"--\")\n",
    "ax.axhline(y=best_point_dict[plot_item], color=\"tab:red\", linestyle=\"-.\")\n",
    "ax.plot(data_df[plot_item], color=\"tab:blue\")"
   ]
  },
  {
   "cell_type": "markdown",
   "metadata": {},
   "source": [
    "### Goal Function"
   ]
  },
  {
   "cell_type": "code",
   "execution_count": 75,
   "metadata": {},
   "outputs": [
    {
     "data": {
      "text/plain": [
       "[<matplotlib.lines.Line2D at 0x7f1cc5ee1310>]"
      ]
     },
     "execution_count": 75,
     "metadata": {},
     "output_type": "execute_result"
    },
    {
     "data": {
      "image/png": "[encoded data removed]",
      "text/plain": [
       "<Figure size 432x288 with 1 Axes>"
      ]
     },
     "metadata": {
      "needs_background": "light"
     },
     "output_type": "display_data"
    }
   ],
   "source": [
    "plot_item = \"goal\"\n",
    "\n",
    "fig, ax = plt.subplots(1)\n",
    "ax.set_xlabel(\"Iteration\")\n",
    "ax.axhline(y=best_point_dict[plot_item], color=\"tab:red\", linestyle=\"-.\")\n",
    "ax.set_ylabel(plot_item)\n",
    "\n",
    "ax.plot(data_df[plot_item], color=\"tab:blue\")"
   ]
  }
 ],
 "metadata": {
  "interpreter": {
   "hash": "8fc56ae400e717d872a76f4d6b257151d16696a9d0a72e6998d355f9b43887c7"
  },
  "kernelspec": {
   "display_name": "SQC_in_Python",
   "language": "python",
   "name": "sqc_in_python"
  },
  "language_info": {
   "codemirror_mode": {
    "name": "ipython",
    "version": 3
   },
   "file_extension": ".py",
   "mimetype": "text/x-python",
   "name": "python",
   "nbconvert_exporter": "python",
   "pygments_lexer": "ipython3",
   "version": "3.7.5"
  },
  "toc": {
   "base_numbering": 1,
   "nav_menu": {},
   "number_sections": true,
   "sideBar": true,
   "skip_h1_title": false,
   "title_cell": "Table of Contents",
   "title_sidebar": "Contents",
   "toc_cell": false,
   "toc_position": {},
   "toc_section_display": true,
   "toc_window_display": true
  },
  "varInspector": {
   "cols": {
    "lenName": 16,
    "lenType": 16,
    "lenVar": 40
   },
   "kernels_config": {
    "python": {
     "delete_cmd_postfix": "",
     "delete_cmd_prefix": "del ",
     "library": "var_list.py",
     "varRefreshCmd": "print(var_dic_list())"
    },
    "r": {
     "delete_cmd_postfix": ") ",
     "delete_cmd_prefix": "rm(",
     "library": "var_list.r",
     "varRefreshCmd": "cat(var_dic_list()) "
    }
   },
   "types_to_exclude": [
    "module",
    "function",
    "builtin_function_or_method",
    "instance",
    "_Feature"
   ],
   "window_display": false
  }
 },
 "nbformat": 4,
 "nbformat_minor": 4
}
