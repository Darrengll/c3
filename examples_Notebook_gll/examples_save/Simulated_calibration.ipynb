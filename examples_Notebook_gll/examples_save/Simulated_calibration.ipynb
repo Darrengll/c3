{
 "cells": [
  {
   "cell_type": "markdown",
   "metadata": {},
   "source": [
    "# Simulated calibration\n",
    "\n",
    "Calibration of control pulses is the process of fine-tuning parameters in a feedback-loop with the experiment. We will simulate this process here by constructing a black-box simulation and interacting with it exactly like an experiment.\n",
    "\n",
    "We have manange imports and creation of the black-box the same way as in the previous example in a helper `single_qubit_blackbox_exp.py`."
   ]
  },
  {
   "cell_type": "code",
   "execution_count": 1,
   "metadata": {
    "ExecuteTime": {
     "end_time": "2022-06-10T09:27:56.487934Z",
     "start_time": "2022-06-10T09:27:56.484482Z"
    }
   },
   "outputs": [],
   "source": [
    "import sys\n",
    "sys.path.append('/home/llguo/PycharmProjects/c3/')"
   ]
  },
  {
   "cell_type": "code",
   "execution_count": 2,
   "metadata": {
    "ExecuteTime": {
     "end_time": "2022-06-10T09:28:02.624249Z",
     "start_time": "2022-06-10T09:27:59.531573Z"
    }
   },
   "outputs": [
    {
     "name": "stderr",
     "output_type": "stream",
     "text": [
      "2022-06-10 17:27:59.697687: W tensorflow/stream_executor/platform/default/dso_loader.cc:64] Could not load dynamic library 'libcudart.so.11.0'; dlerror: libcudart.so.11.0: cannot open shared object file: No such file or directory\n",
      "2022-06-10 17:27:59.697730: I tensorflow/stream_executor/cuda/cudart_stub.cc:29] Ignore above cudart dlerror if you do not have a GPU set up on your machine.\n",
      "2022-06-10 17:28:02.265810: I tensorflow/stream_executor/cuda/cuda_gpu_executor.cc:936] successful NUMA node read from SysFS had negative value (-1), but there must be at least one NUMA node, so returning NUMA node zero\n",
      "2022-06-10 17:28:02.266412: W tensorflow/stream_executor/platform/default/dso_loader.cc:64] Could not load dynamic library 'libcudart.so.11.0'; dlerror: libcudart.so.11.0: cannot open shared object file: No such file or directory\n",
      "2022-06-10 17:28:02.266479: W tensorflow/stream_executor/platform/default/dso_loader.cc:64] Could not load dynamic library 'libcublas.so.11'; dlerror: libcublas.so.11: cannot open shared object file: No such file or directory\n",
      "2022-06-10 17:28:02.266540: W tensorflow/stream_executor/platform/default/dso_loader.cc:64] Could not load dynamic library 'libcublasLt.so.11'; dlerror: libcublasLt.so.11: cannot open shared object file: No such file or directory\n",
      "2022-06-10 17:28:02.266601: W tensorflow/stream_executor/platform/default/dso_loader.cc:64] Could not load dynamic library 'libcufft.so.10'; dlerror: libcufft.so.10: cannot open shared object file: No such file or directory\n",
      "2022-06-10 17:28:02.266660: W tensorflow/stream_executor/platform/default/dso_loader.cc:64] Could not load dynamic library 'libcurand.so.10'; dlerror: libcurand.so.10: cannot open shared object file: No such file or directory\n",
      "2022-06-10 17:28:02.266720: W tensorflow/stream_executor/platform/default/dso_loader.cc:64] Could not load dynamic library 'libcusolver.so.11'; dlerror: libcusolver.so.11: cannot open shared object file: No such file or directory\n",
      "2022-06-10 17:28:02.266780: W tensorflow/stream_executor/platform/default/dso_loader.cc:64] Could not load dynamic library 'libcusparse.so.11'; dlerror: libcusparse.so.11: cannot open shared object file: No such file or directory\n",
      "2022-06-10 17:28:02.266839: W tensorflow/stream_executor/platform/default/dso_loader.cc:64] Could not load dynamic library 'libcudnn.so.8'; dlerror: libcudnn.so.8: cannot open shared object file: No such file or directory\n",
      "2022-06-10 17:28:02.266851: W tensorflow/core/common_runtime/gpu/gpu_device.cc:1850] Cannot dlopen some GPU libraries. Please make sure the missing libraries mentioned above are installed properly if you would like to use GPU. Follow the guide at https://www.tensorflow.org/install/gpu for how to download and setup the required libraries for your platform.\n",
      "Skipping registering GPU devices...\n",
      "2022-06-10 17:28:02.267109: I tensorflow/core/platform/cpu_feature_guard.cc:151] This TensorFlow binary is optimized with oneAPI Deep Neural Network Library (oneDNN) to use the following CPU instructions in performance-critical operations:  AVX2 FMA\n",
      "To enable them in other operations, rebuild TensorFlow with the appropriate compiler flags.\n"
     ]
    }
   ],
   "source": [
    "from single_qubit_blackbox_exp import create_experiment\n",
    "\n",
    "blackbox = create_experiment()"
   ]
  },
  {
   "cell_type": "markdown",
   "metadata": {},
   "source": [
    "This blackbox is constructed the same way as in the C1 example. The difference will be in how we interact with it. First, we decide on what experiment we want to perform and need to specify it as a python function. A general, minimal example would be\n",
    "\n",
    "`def exp_communication(params):\n",
    "    # Send parameters to experiment controller\n",
    "    # and recieve a measurement result.\n",
    "    return measurement_result\n",
    " `\n",
    "\n",
    "Again, `params` is a linear vector of bare numbers. The measurement result can be a single number or a set of results. It can also include additional information about statistics, like averaging, standard deviation, etc."
   ]
  },
  {
   "cell_type": "markdown",
   "metadata": {},
   "source": [
    "### ORBIT - Single-length randomized benchmarking\n",
    "The following defines an [ORBIT](https://arxiv.org/abs/1403.0035) procedure. In short, we define sequences of gates that result in an identity gate if our individual gates are perfect. Any deviation from identity gives us a measure of the imperfections in our gates. Our helper `qt_utils` provides these sequences."
   ]
  },
  {
   "cell_type": "code",
   "execution_count": 3,
   "metadata": {
    "ExecuteTime": {
     "end_time": "2022-06-10T09:29:19.867933Z",
     "start_time": "2022-06-10T09:29:19.862722Z"
    }
   },
   "outputs": [],
   "source": [
    "from c3.utils import qt_utils"
   ]
  },
  {
   "cell_type": "code",
   "execution_count": 4,
   "metadata": {
    "ExecuteTime": {
     "end_time": "2022-06-10T09:29:20.203930Z",
     "start_time": "2022-06-10T09:29:20.196136Z"
    }
   },
   "outputs": [
    {
     "data": {
      "text/plain": [
       "[['rx90p[0]',\n",
       "  'rx90m[0]',\n",
       "  'rx90p[0]',\n",
       "  'ry90p[0]',\n",
       "  'ry90p[0]',\n",
       "  'ry90p[0]',\n",
       "  'rx90p[0]',\n",
       "  'rx90p[0]',\n",
       "  'rx90p[0]',\n",
       "  'ry90p[0]',\n",
       "  'rx90m[0]',\n",
       "  'ry90m[0]']]"
      ]
     },
     "execution_count": 4,
     "metadata": {},
     "output_type": "execute_result"
    }
   ],
   "source": [
    "qt_utils.single_length_RB(\n",
    "            RB_number=1, RB_length=5, target=0\n",
    "    )"
   ]
  },
  {
   "cell_type": "markdown",
   "metadata": {},
   "source": [
    "The desired number of 5 gates is selected from a specific set (the Clifford group) and has to be decomposed into the available gate-set. Here, this means 4 gates per Clifford, hence a sequence of 20 gates."
   ]
  },
  {
   "cell_type": "markdown",
   "metadata": {},
   "source": [
    "### Communication with the experiment\n",
    "Some of the following code is specific to the fact that this a *simulated* calibration. The interface of $C^2$ to the experiment is simple: parameters in $\\rightarrow$ results out. Thus, we have to wrap the blackbox by defining the target states and the `opt_map`."
   ]
  },
  {
   "cell_type": "code",
   "execution_count": 5,
   "metadata": {
    "ExecuteTime": {
     "end_time": "2022-06-10T09:30:31.467932Z",
     "start_time": "2022-06-10T09:30:31.458858Z"
    },
    "code_folding": []
   },
   "outputs": [],
   "source": [
    "import numpy as np\n",
    "import tensorflow as tf\n",
    "\n",
    "def ORBIT_wrapper(p):\n",
    "    def ORBIT(params, exp, opt_map, qubit_labels, logdir):    \n",
    "        ### ORBIT meta-parameters ###\n",
    "        RB_length = 60 # How long each sequence is\n",
    "        RB_number = 40  # How many sequences\n",
    "        shots = 1000    # How many averages per readout\n",
    "\n",
    "        ################################\n",
    "        ### Simulation specific part ###\n",
    "        ################################\n",
    "\n",
    "        do_noise = False  # Whether to add artificial noise to the results\n",
    "\n",
    "        qubit_label = list(qubit_labels.keys())[0]\n",
    "        state_labels = qubit_labels[qubit_label]\n",
    "        state_label = [tuple(l) for l in state_labels]\n",
    "\n",
    "        # Creating the RB sequences #\n",
    "        seqs = qt_utils.single_length_RB(\n",
    "                RB_number=RB_number, RB_length=RB_length, target=0\n",
    "        )\n",
    "\n",
    "        # Transmitting the parameters to the experiment #\n",
    "        exp.pmap.set_parameters(params, opt_map)\n",
    "        exp.set_opt_gates_seq(seqs)\n",
    "\n",
    "        # Simulating the gates #\n",
    "        U_dict = exp.compute_propagators()\n",
    "\n",
    "        # Running the RB sequences and read-out the results #\n",
    "        pops = exp.evaluate(seqs)\n",
    "        pop1s, _ = exp.process(pops, labels=state_label)\n",
    "\n",
    "        results = []\n",
    "        results_std = []\n",
    "        shots_nums = []\n",
    "\n",
    "        # Collecting results and statistics, add noise #\n",
    "        if do_noise:\n",
    "            for p1 in pop1s:\n",
    "                draws = tf.keras.backend.random_binomial(\n",
    "                    [shots],\n",
    "                    p=p1[0],\n",
    "                    dtype=tf.float64,\n",
    "                )\n",
    "                results.append([np.mean(draws)])\n",
    "                results_std.append([np.std(draws)/np.sqrt(shots)])\n",
    "                shots_nums.append([shots])\n",
    "        else:\n",
    "            for p1 in pop1s:\n",
    "                results.append(p1.numpy())\n",
    "                results_std.append([0])\n",
    "                shots_nums.append([shots])\n",
    "\n",
    "        #######################################\n",
    "        ### End of Simulation specific part ###\n",
    "        #######################################\n",
    "\n",
    "        goal = np.mean(results)\n",
    "        return goal, results, results_std, seqs, shots_nums\n",
    "    return ORBIT(\n",
    "                p, blackbox, gateset_opt_map, state_labels, \"/tmp/c3logs/blackbox\"\n",
    "            )"
   ]
  },
  {
   "cell_type": "markdown",
   "metadata": {},
   "source": [
    "### Optimization\n",
    "We first import algorithms and the correct optimizer object."
   ]
  },
  {
   "cell_type": "code",
   "execution_count": 6,
   "metadata": {
    "ExecuteTime": {
     "end_time": "2022-06-10T09:30:34.175943Z",
     "start_time": "2022-06-10T09:30:34.026788Z"
    }
   },
   "outputs": [],
   "source": [
    "import copy\n",
    "\n",
    "from c3.experiment import Experiment as Exp\n",
    "from c3.c3objs import Quantity as Qty\n",
    "from c3.parametermap import ParameterMap as PMap\n",
    "from c3.libraries import algorithms, envelopes\n",
    "from c3.signal import gates, pulse\n",
    "from c3.optimizers.calibration import Calibration"
   ]
  },
  {
   "cell_type": "markdown",
   "metadata": {},
   "source": [
    "### Representation of the experiment within $C^3$\n",
    "At this point we have to make sure that the gates (\"RX90p\", etc.) and drive line (\"d1\") are compatible to the experiment controller operating the blackbox. We mirror the blackbox by creating an experiment in the $C^3$ context:"
   ]
  },
  {
   "cell_type": "code",
   "execution_count": 7,
   "metadata": {
    "ExecuteTime": {
     "end_time": "2022-06-10T09:31:42.491936Z",
     "start_time": "2022-06-10T09:31:42.453511Z"
    }
   },
   "outputs": [],
   "source": [
    "t_final = 7e-9   # Time for single qubit gates\n",
    "sideband = 50e6\n",
    "lo_freq = 5e9 + sideband\n",
    "\n",
    " # ### MAKE GATESET\n",
    "gauss_params_single = {\n",
    "    'amp': Qty(\n",
    "        value=0.45,\n",
    "        min_val=0.4,\n",
    "        max_val=0.6,\n",
    "        unit=\"V\"\n",
    "    ),\n",
    "    't_final': Qty(\n",
    "        value=t_final,\n",
    "        min_val=0.5 * t_final,\n",
    "        max_val=1.5 * t_final,\n",
    "        unit=\"s\"\n",
    "    ),\n",
    "    'sigma': Qty(\n",
    "        value=t_final / 4,\n",
    "        min_val=t_final / 8,\n",
    "        max_val=t_final / 2,\n",
    "        unit=\"s\"\n",
    "    ),\n",
    "    'xy_angle': Qty(\n",
    "        value=0.0,\n",
    "        min_val=-0.5 * np.pi,\n",
    "        max_val=2.5 * np.pi,\n",
    "        unit='rad'\n",
    "    ),\n",
    "    'freq_offset': Qty(\n",
    "        value=-sideband - 0.5e6,\n",
    "        min_val=-53 * 1e6,\n",
    "        max_val=-47 * 1e6,\n",
    "        unit='Hz 2pi'\n",
    "    ),\n",
    "    'delta': Qty(\n",
    "        value=-1,\n",
    "        min_val=-5,\n",
    "        max_val=3,\n",
    "        unit=\"\"\n",
    "    )\n",
    "}\n",
    "\n",
    "gauss_env_single = pulse.EnvelopeDrag(\n",
    "    name=\"gauss\",\n",
    "    desc=\"Gaussian comp for single-qubit gates\",\n",
    "    params=gauss_params_single,\n",
    "    shape=envelopes.gaussian_nonorm\n",
    ")\n",
    "nodrive_env = pulse.Envelope(\n",
    "    name=\"no_drive\",\n",
    "    params={\n",
    "        't_final': Qty(\n",
    "            value=t_final,\n",
    "            min_val=0.5 * t_final,\n",
    "            max_val=1.5 * t_final,\n",
    "            unit=\"s\"\n",
    "        )\n",
    "    },\n",
    "    shape=envelopes.no_drive\n",
    ")\n",
    "carrier_parameters = {\n",
    "    'freq': Qty(\n",
    "        value=lo_freq,\n",
    "        min_val=4.5e9,\n",
    "        max_val=6e9,\n",
    "        unit='Hz 2pi'\n",
    "    ),\n",
    "    'framechange': Qty(\n",
    "        value=0.0,\n",
    "        min_val= -np.pi,\n",
    "        max_val= 3 * np.pi,\n",
    "        unit='rad'\n",
    "    )\n",
    "}\n",
    "carr = pulse.Carrier(\n",
    "    name=\"carrier\",\n",
    "    desc=\"Frequency of the local oscillator\",\n",
    "    params=carrier_parameters\n",
    ")\n",
    "\n",
    "rx90p = gates.Instruction(\n",
    "    name=\"rx90p\",\n",
    "    t_start=0.0,\n",
    "    t_end=t_final,\n",
    "    channels=[\"d1\"],\n",
    "    targets=[0]\n",
    ")\n",
    "QId = gates.Instruction(\n",
    "    name=\"id\",\n",
    "    t_start=0.0,\n",
    "    t_end=t_final,\n",
    "    channels=[\"d1\"],\n",
    "    targets=[0]\n",
    ")\n",
    "\n",
    "rx90p.add_component(gauss_env_single, \"d1\")\n",
    "rx90p.add_component(carr, \"d1\")\n",
    "QId.add_component(nodrive_env, \"d1\")\n",
    "QId.add_component(copy.deepcopy(carr), \"d1\")\n",
    "QId.comps['d1']['carrier'].params['framechange'].set_value(\n",
    "    (-sideband * t_final * 2 * np.pi) % (2*np.pi)\n",
    ")\n",
    "ry90p = copy.deepcopy(rx90p)\n",
    "ry90p.name = \"ry90p\"\n",
    "rx90m = copy.deepcopy(rx90p)\n",
    "rx90m.name = \"rx90m\"\n",
    "ry90m = copy.deepcopy(rx90p)\n",
    "ry90m.name = \"ry90m\"\n",
    "ry90p.comps['d1']['gauss'].params['xy_angle'].set_value(0.5 * np.pi)\n",
    "rx90m.comps['d1']['gauss'].params['xy_angle'].set_value(np.pi)\n",
    "ry90m.comps['d1']['gauss'].params['xy_angle'].set_value(1.5 * np.pi)\n",
    "\n",
    "parameter_map = PMap(instructions=[QId, rx90p, ry90p, rx90m, ry90m])\n",
    "\n",
    "# ### MAKE EXPERIMENT\n",
    "exp = Exp(pmap=parameter_map)"
   ]
  },
  {
   "cell_type": "markdown",
   "metadata": {},
   "source": [
    "Next, we define the parameters we wish to calibrate. See how these gate instructions are defined in the experiment setup example or in `single_qubit_blackbox_exp.py`. Our gate-set is made up of 4 gates, rotations of 90 degrees around the $x$ and $y$-axis in positive and negative direction. While it is possible to optimize each parameters of each gate individually, in this example all four gates share parameters. They only differ in the phase $\\phi_{xy}$ that is set in the definitions."
   ]
  },
  {
   "cell_type": "code",
   "execution_count": 8,
   "metadata": {
    "ExecuteTime": {
     "end_time": "2022-06-10T09:31:51.815932Z",
     "start_time": "2022-06-10T09:31:51.810132Z"
    }
   },
   "outputs": [],
   "source": [
    "gateset_opt_map =   [\n",
    "    [\n",
    "      (\"rx90p[0]\", \"d1\", \"gauss\", \"amp\"),\n",
    "      (\"ry90p[0]\", \"d1\", \"gauss\", \"amp\"),\n",
    "      (\"rx90m[0]\", \"d1\", \"gauss\", \"amp\"),\n",
    "      (\"ry90m[0]\", \"d1\", \"gauss\", \"amp\")\n",
    "    ],\n",
    "    [\n",
    "      (\"rx90p[0]\", \"d1\", \"gauss\", \"delta\"),\n",
    "      (\"ry90p[0]\", \"d1\", \"gauss\", \"delta\"),\n",
    "      (\"rx90m[0]\", \"d1\", \"gauss\", \"delta\"),\n",
    "      (\"ry90m[0]\", \"d1\", \"gauss\", \"delta\")\n",
    "    ],\n",
    "    [\n",
    "      (\"rx90p[0]\", \"d1\", \"gauss\", \"freq_offset\"),\n",
    "      (\"ry90p[0]\", \"d1\", \"gauss\", \"freq_offset\"),\n",
    "      (\"rx90m[0]\", \"d1\", \"gauss\", \"freq_offset\"),\n",
    "      (\"ry90m[0]\", \"d1\", \"gauss\", \"freq_offset\")\n",
    "    ],\n",
    "    [\n",
    "      (\"id[0]\", \"d1\", \"carrier\", \"framechange\")\n",
    "    ]\n",
    "  ]\n",
    "\n",
    "parameter_map.set_opt_map(gateset_opt_map)"
   ]
  },
  {
   "cell_type": "markdown",
   "metadata": {},
   "source": [
    "As defined above, we have 16 parameters where 4 share their numerical value. This leaves 4 values to optimize."
   ]
  },
  {
   "cell_type": "code",
   "execution_count": 9,
   "metadata": {
    "ExecuteTime": {
     "end_time": "2022-06-10T09:31:55.155933Z",
     "start_time": "2022-06-10T09:31:55.146585Z"
    }
   },
   "outputs": [
    {
     "name": "stdout",
     "output_type": "stream",
     "text": [
      "rx90p[0]-d1-gauss-amp                 : 450.000 mV \n",
      "ry90p[0]-d1-gauss-amp\n",
      "rx90m[0]-d1-gauss-amp\n",
      "ry90m[0]-d1-gauss-amp\n",
      "\n",
      "rx90p[0]-d1-gauss-delta               : -1.000  \n",
      "ry90p[0]-d1-gauss-delta\n",
      "rx90m[0]-d1-gauss-delta\n",
      "ry90m[0]-d1-gauss-delta\n",
      "\n",
      "rx90p[0]-d1-gauss-freq_offset         : -50.500 MHz 2pi \n",
      "ry90p[0]-d1-gauss-freq_offset\n",
      "rx90m[0]-d1-gauss-freq_offset\n",
      "ry90m[0]-d1-gauss-freq_offset\n",
      "\n",
      "id[0]-d1-carrier-framechange          : 4.084 rad \n",
      "\n"
     ]
    }
   ],
   "source": [
    "parameter_map.print_parameters()"
   ]
  },
  {
   "cell_type": "markdown",
   "metadata": {},
   "source": [
    "It is important to note that in this example, we are transmitting only these four parameters to the experiment. We don't know how the blackbox will implement the pulse shapes and care has to be taken that the parameters are understood on the other end. Optionally, we could specifiy a virtual AWG within $C^3$ and transmit pixilated pulse shapes directly to the physiscal AWG."
   ]
  },
  {
   "cell_type": "markdown",
   "metadata": {},
   "source": [
    "### Algorithms\n",
    "As an optimization algoritm, we choose [CMA-Es](https://en.wikipedia.org/wiki/CMA-ES) and set up some options specific to this algorithm."
   ]
  },
  {
   "cell_type": "markdown",
   "metadata": {},
   "source": [
    "#### Maximum Evaluations\n",
    "We set the maximum number of evaluations to 30 for quick demonstration. Ideally around 250 function evaluations are useful for a good optimization. See [docs](https://c3-toolset.readthedocs.io/en/latest/Simulated_calibration.html#analysis) for a longer run."
   ]
  },
  {
   "cell_type": "code",
   "execution_count": 10,
   "metadata": {
    "ExecuteTime": {
     "end_time": "2022-06-10T09:32:40.027933Z",
     "start_time": "2022-06-10T09:32:40.021799Z"
    }
   },
   "outputs": [],
   "source": [
    "alg_options = {\n",
    "    \"popsize\" : 10,\n",
    "    \"maxfevals\" : 300,\n",
    "    \"init_point\" : \"True\",\n",
    "    \"tolfun\" : 0.01,\n",
    "    \"spread\" : 0.25\n",
    "  }"
   ]
  },
  {
   "cell_type": "markdown",
   "metadata": {},
   "source": [
    "We define the subspace as both excited states $\\{|1>,|2>\\}$, assuming read-out can distinguish between 0, 1 and 2."
   ]
  },
  {
   "cell_type": "code",
   "execution_count": 11,
   "metadata": {
    "ExecuteTime": {
     "end_time": "2022-06-10T09:32:41.236149Z",
     "start_time": "2022-06-10T09:32:41.228483Z"
    }
   },
   "outputs": [],
   "source": [
    "state_labels = {\n",
    "      \"excited\" : [(1,), (2,)]\n",
    "  }"
   ]
  },
  {
   "cell_type": "markdown",
   "metadata": {},
   "source": [
    "In the real world, this setup needs to be handled in the experiment controller side.\n",
    "We construct the optimizer object with the options we setup:"
   ]
  },
  {
   "cell_type": "code",
   "execution_count": 12,
   "metadata": {
    "ExecuteTime": {
     "end_time": "2022-06-10T09:33:23.915931Z",
     "start_time": "2022-06-10T09:33:23.908750Z"
    }
   },
   "outputs": [],
   "source": [
    "import os\n",
    "import tempfile\n",
    "\n",
    "# Create a temporary directory to store logfiles, modify as needed\n",
    "log_dir = os.path.join(tempfile.TemporaryDirectory().name, \"c3logs\")\n",
    "\n",
    "opt = Calibration(\n",
    "    dir_path=log_dir,\n",
    "    run_name=\"ORBIT_cal\",\n",
    "    eval_func=ORBIT_wrapper,\n",
    "    pmap=parameter_map,\n",
    "    exp_right=exp,\n",
    "    algorithm=algorithms.cmaes,\n",
    "    options=alg_options\n",
    ")"
   ]
  },
  {
   "cell_type": "markdown",
   "metadata": {},
   "source": [
    "And run the calibration:"
   ]
  },
  {
   "cell_type": "code",
   "execution_count": 13,
   "metadata": {
    "ExecuteTime": {
     "end_time": "2022-06-10T09:33:24.835934Z",
     "start_time": "2022-06-10T09:33:24.828892Z"
    }
   },
   "outputs": [],
   "source": [
    "x = parameter_map.get_parameters_scaled()"
   ]
  },
  {
   "cell_type": "code",
   "execution_count": 14,
   "metadata": {
    "ExecuteTime": {
     "end_time": "2022-06-10T09:36:00.547942Z",
     "start_time": "2022-06-10T09:33:28.380218Z"
    }
   },
   "outputs": [
    {
     "name": "stdout",
     "output_type": "stream",
     "text": [
      "C3:STATUS:Saving as: /tmp/tmp5g7iy3ct/c3logs/ORBIT_cal/2022_06_10_T_17_33_28/calibration.log\n",
      "(5_w,10)-aCMA-ES (mu_w=3.2,w_1=45%) in dimension 4 (seed=931673, Fri Jun 10 17:33:28 2022)\n",
      "C3:STATUS:Adding initial point to CMA sample.\n",
      "Iterat #Fevals   function value  axis ratio  sigma  min&max std  t[m:s]\n",
      "    1     11 4.884721645750290e-01 1.0e+00 2.52e-01  2e-01  3e-01 0:05.6\n",
      "    2     21 5.211994354818577e-01 1.4e+00 2.86e-01  2e-01  4e-01 0:10.7\n",
      "    3     31 3.351861735696430e-01 1.9e+00 2.67e-01  2e-01  4e-01 0:16.8\n",
      "    4     41 4.515008436919531e-01 2.2e+00 2.33e-01  1e-01  3e-01 0:21.7\n",
      "    5     51 4.472110681164333e-01 2.0e+00 2.00e-01  1e-01  2e-01 0:26.7\n",
      "    7     71 4.518556740785070e-01 2.6e+00 1.72e-01  9e-02  2e-01 0:36.5\n",
      "    9     91 2.739002671906179e-01 2.4e+00 1.49e-01  7e-02  1e-01 0:46.4\n",
      "   11    111 3.657966095980270e-01 2.6e+00 1.43e-01  6e-02  1e-01 0:56.8\n",
      "   13    131 2.551370416111306e-01 2.7e+00 1.23e-01  5e-02  1e-01 1:06.9\n",
      "   15    151 2.410777880479268e-01 3.1e+00 1.09e-01  4e-02  1e-01 1:16.8\n",
      "   17    171 2.614196108596006e-01 3.5e+00 1.08e-01  3e-02  1e-01 1:27.2\n",
      "   20    201 2.907909874161597e-01 5.7e+00 9.61e-02  3e-02  1e-01 1:42.6\n",
      "   23    231 2.186401850048801e-01 6.1e+00 7.94e-02  2e-02  1e-01 1:57.3\n",
      "   26    261 2.421012955958706e-01 6.3e+00 7.57e-02  2e-02  8e-02 2:11.7\n",
      "   29    291 2.162665594118916e-01 7.9e+00 8.02e-02  2e-02  1e-01 2:26.5\n",
      "   30    301 2.200189225951053e-01 8.6e+00 6.92e-02  1e-02  8e-02 2:31.3\n",
      "termination on maxfevals=300\n",
      "final/bestever f-value = 2.200189e-01 2.162666e-01\n",
      "incumbent solution: [-1.005405051835883, -0.020936882302698506, -0.2655646942977533, 0.16464841431590896]\n",
      "std deviation: [0.013548243328217113, 0.016657795983822447, 0.07663366860460377, 0.050935732957847375]\n"
     ]
    }
   ],
   "source": [
    "opt.optimize_controls()"
   ]
  },
  {
   "cell_type": "markdown",
   "metadata": {},
   "source": [
    "function value is the best function evaluation value in that iteration, not the average value."
   ]
  },
  {
   "cell_type": "markdown",
   "metadata": {},
   "source": [
    "## Analysis\n",
    "The following code uses matplotlib to create an ORBIT plot from the logfile."
   ]
  },
  {
   "cell_type": "code",
   "execution_count": 15,
   "metadata": {
    "ExecuteTime": {
     "end_time": "2022-06-10T09:36:06.319934Z",
     "start_time": "2022-06-10T09:36:06.312595Z"
    }
   },
   "outputs": [],
   "source": [
    "# !pip install -q -U pip\n",
    "# !pip install -q matplotlib"
   ]
  },
  {
   "cell_type": "code",
   "execution_count": 16,
   "metadata": {
    "ExecuteTime": {
     "end_time": "2022-06-10T09:36:07.659951Z",
     "start_time": "2022-06-10T09:36:06.798147Z"
    }
   },
   "outputs": [
    {
     "data": {
      "text/plain": [
       "[<matplotlib.lines.Line2D at 0x7f01a9226690>]"
      ]
     },
     "execution_count": 16,
     "metadata": {},
     "output_type": "execute_result"
    },
    {
     "data": {
      "image/png": "[encoded data removed]",
      "text/plain": [
       "<Figure size 432x288 with 1 Axes>"
      ]
     },
     "metadata": {
      "needs_background": "light"
     },
     "output_type": "display_data"
    }
   ],
   "source": [
    "import json\n",
    "from matplotlib.ticker import MaxNLocator\n",
    "from  matplotlib import rcParams\n",
    "from matplotlib import cycler\n",
    "import matplotlib as mpl\n",
    "import matplotlib.pyplot as plt\n",
    "\n",
    "rcParams['xtick.direction'] = 'in'\n",
    "rcParams['axes.grid'] = True\n",
    "rcParams['grid.linestyle'] = '--'\n",
    "rcParams['markers.fillstyle'] = 'none'\n",
    "rcParams['axes.prop_cycle'] = cycler(\n",
    "    'linestyle', [\"-\", \"--\"]\n",
    ")\n",
    "\n",
    "# enable usetex by setting it to True if LaTeX is installed\n",
    "rcParams['text.usetex'] = True\n",
    "rcParams['font.size'] = 16\n",
    "rcParams['font.family'] = 'serif'\n",
    "\n",
    "logfilename = opt.logdir + \"calibration.log\"\n",
    "with open(logfilename, \"r\") as filename:\n",
    "    log = filename.readlines()\n",
    "    \n",
    "\n",
    "options = json.loads(log[7])\n",
    "\n",
    "goal_function = []\n",
    "batch = 0\n",
    "batch_size = options[\"popsize\"]\n",
    "\n",
    "\n",
    "eval = 0\n",
    "for line in log[9:]:\n",
    "    if line[0] == \"{\":\n",
    "        if not eval % batch_size:\n",
    "            batch = eval // batch_size\n",
    "            goal_function.append([])\n",
    "        eval += 1\n",
    "        point = json.loads(line)\n",
    "        if 'goal' in point.keys():\n",
    "            goal_function[batch].append(point['goal'])\n",
    "\n",
    "# Clean unfinished batch\n",
    "if len(goal_function[-1])<batch_size:\n",
    "    goal_function.pop(-1)\n",
    "\n",
    "fig, ax = plt.subplots(1)\n",
    "means = []\n",
    "bests = []\n",
    "for ii in range(len(goal_function)):\n",
    "    means.append(np.mean(np.array(goal_function[ii])))\n",
    "    bests.append(np.min(np.array(goal_function[ii])))\n",
    "    for pt in goal_function[ii]:\n",
    "        ax.plot(ii+1, pt, color='tab:blue', marker=\"D\", markersize=2.5, linewidth=0)\n",
    "\n",
    "ax.xaxis.set_major_locator(MaxNLocator(integer=True))\n",
    "ax.set_ylabel('ORBIT')\n",
    "ax.set_xlabel('Iterations')\n",
    "ax.plot(\n",
    "    range(1, len(goal_function)+1), bests, color=\"tab:red\", marker=\"D\",\n",
    "    markersize=5.5, linewidth=0, fillstyle='full'\n",
    ")\n"
   ]
  },
  {
   "cell_type": "code",
   "execution_count": null,
   "metadata": {},
   "outputs": [],
   "source": []
  }
 ],
 "metadata": {
  "interpreter": {
   "hash": "8fc56ae400e717d872a76f4d6b257151d16696a9d0a72e6998d355f9b43887c7"
  },
  "kernelspec": {
   "display_name": "SQC_in_Python",
   "language": "python",
   "name": "sqc_in_python"
  },
  "language_info": {
   "codemirror_mode": {
    "name": "ipython",
    "version": 3
   },
   "file_extension": ".py",
   "mimetype": "text/x-python",
   "name": "python",
   "nbconvert_exporter": "python",
   "pygments_lexer": "ipython3",
   "version": "3.7.5"
  },
  "toc": {
   "base_numbering": 1,
   "nav_menu": {},
   "number_sections": true,
   "sideBar": true,
   "skip_h1_title": false,
   "title_cell": "Table of Contents",
   "title_sidebar": "Contents",
   "toc_cell": false,
   "toc_position": {},
   "toc_section_display": true,
   "toc_window_display": true
  },
  "varInspector": {
   "cols": {
    "lenName": 16,
    "lenType": 16,
    "lenVar": 40
   },
   "kernels_config": {
    "python": {
     "delete_cmd_postfix": "",
     "delete_cmd_prefix": "del ",
     "library": "var_list.py",
     "varRefreshCmd": "print(var_dic_list())"
    },
    "r": {
     "delete_cmd_postfix": ") ",
     "delete_cmd_prefix": "rm(",
     "library": "var_list.r",
     "varRefreshCmd": "cat(var_dic_list()) "
    }
   },
   "types_to_exclude": [
    "module",
    "function",
    "builtin_function_or_method",
    "instance",
    "_Feature"
   ],
   "window_display": false
  }
 },
 "nbformat": 4,
 "nbformat_minor": 4
}
