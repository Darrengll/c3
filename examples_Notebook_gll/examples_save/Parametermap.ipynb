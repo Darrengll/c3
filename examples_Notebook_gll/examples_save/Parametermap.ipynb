{
 "cells": [
  {
   "cell_type": "markdown",
   "metadata": {},
   "source": [
    "# Parameter handling\n",
    "The tool within $C^3$ to manipulate the parameters of both the model and controls is the `ParameterMap`. It provides methods to present the same data for human interaction, i.e. structured information with physical units and for numerical optimization algorithms that prefer a linear vector of scale 1. Here, we'll show some example usage.\n",
    "We'll use the `ParameterMap` of the model also used in the simulated calibration example."
   ]
  },
  {
   "cell_type": "code",
   "execution_count": 1,
   "metadata": {
    "ExecuteTime": {
     "end_time": "2022-06-02T06:46:16.967929Z",
     "start_time": "2022-06-02T06:46:16.957393Z"
    }
   },
   "outputs": [],
   "source": [
    "import sys\n",
    "sys.path.append('/home/llguo/PycharmProjects/c3/')"
   ]
  },
  {
   "cell_type": "code",
   "execution_count": 2,
   "metadata": {
    "ExecuteTime": {
     "end_time": "2022-06-02T06:46:20.955945Z",
     "start_time": "2022-06-02T06:46:18.321080Z"
    }
   },
   "outputs": [
    {
     "name": "stderr",
     "output_type": "stream",
     "text": [
      "2022-06-02 14:46:18.486863: W tensorflow/stream_executor/platform/default/dso_loader.cc:64] Could not load dynamic library 'libcudart.so.11.0'; dlerror: libcudart.so.11.0: cannot open shared object file: No such file or directory\n",
      "2022-06-02 14:46:18.486893: I tensorflow/stream_executor/cuda/cudart_stub.cc:29] Ignore above cudart dlerror if you do not have a GPU set up on your machine.\n",
      "2022-06-02 14:46:20.910069: E tensorflow/stream_executor/cuda/cuda_driver.cc:271] failed call to cuInit: CUDA_ERROR_COMPAT_NOT_SUPPORTED_ON_DEVICE: forward compatibility was attempted on non supported HW\n",
      "2022-06-02 14:46:20.910116: I tensorflow/stream_executor/cuda/cuda_diagnostics.cc:169] retrieving CUDA diagnostic information for host: SQD\n",
      "2022-06-02 14:46:20.910125: I tensorflow/stream_executor/cuda/cuda_diagnostics.cc:176] hostname: SQD\n",
      "2022-06-02 14:46:20.910202: I tensorflow/stream_executor/cuda/cuda_diagnostics.cc:200] libcuda reported version is: 470.129.6\n",
      "2022-06-02 14:46:20.910235: I tensorflow/stream_executor/cuda/cuda_diagnostics.cc:204] kernel reported version is: 470.103.1\n",
      "2022-06-02 14:46:20.910244: E tensorflow/stream_executor/cuda/cuda_diagnostics.cc:313] kernel version 470.103.1 does not match DSO version 470.129.6 -- cannot find working devices in this configuration\n",
      "2022-06-02 14:46:20.910533: I tensorflow/core/platform/cpu_feature_guard.cc:151] This TensorFlow binary is optimized with oneAPI Deep Neural Network Library (oneDNN) to use the following CPU instructions in performance-critical operations:  AVX2 FMA\n",
      "To enable them in other operations, rebuild TensorFlow with the appropriate compiler flags.\n"
     ]
    }
   ],
   "source": [
    "from single_qubit_blackbox_exp import create_experiment\n",
    "\n",
    "exp = create_experiment()\n",
    "pmap = exp.pmap"
   ]
  },
  {
   "cell_type": "markdown",
   "metadata": {},
   "source": [
    "The pmap contains a list of all parameters and their values:"
   ]
  },
  {
   "cell_type": "code",
   "execution_count": 5,
   "metadata": {
    "ExecuteTime": {
     "end_time": "2022-06-02T06:46:51.811930Z",
     "start_time": "2022-06-02T06:46:51.790203Z"
    }
   },
   "outputs": [
    {
     "data": {
      "text/plain": [
       "{'Q1-freq': 5.000 GHz 2pi,\n",
       " 'Q1-anhar': -210.000 MHz 2pi,\n",
       " 'Q1-temp': 0.000 K,\n",
       " 'init_ground-init_temp': -3.469 aK,\n",
       " 'resp-rise_time': 300.000 ps,\n",
       " 'v_to_hz-V_to_Hz': 1.000 GHz/V,\n",
       " 'id[0]-d1-no_drive-amp': 1.000 V,\n",
       " 'id[0]-d1-no_drive-delta': 0.000 V,\n",
       " 'id[0]-d1-no_drive-freq_offset': 0.000 Hz 2pi,\n",
       " 'id[0]-d1-no_drive-xy_angle': 0.000 rad,\n",
       " 'id[0]-d1-no_drive-sigma': 5.000 ns,\n",
       " 'id[0]-d1-no_drive-t_final': 7.000 ns,\n",
       " 'id[0]-d1-carrier-freq': 5.050 GHz 2pi,\n",
       " 'id[0]-d1-carrier-framechange': 5.933 rad,\n",
       " 'rx90p[0]-d1-gauss-amp': 450.000 mV,\n",
       " 'rx90p[0]-d1-gauss-delta': -1.000 ,\n",
       " 'rx90p[0]-d1-gauss-freq_offset': -50.500 MHz 2pi,\n",
       " 'rx90p[0]-d1-gauss-xy_angle': -444.089 arad,\n",
       " 'rx90p[0]-d1-gauss-sigma': 1.750 ns,\n",
       " 'rx90p[0]-d1-gauss-t_final': 7.000 ns,\n",
       " 'rx90p[0]-d1-carrier-freq': 5.050 GHz 2pi,\n",
       " 'rx90p[0]-d1-carrier-framechange': 0.000 rad,\n",
       " 'ry90p[0]-d1-gauss-amp': 450.000 mV,\n",
       " 'ry90p[0]-d1-gauss-delta': -1.000 ,\n",
       " 'ry90p[0]-d1-gauss-freq_offset': -50.500 MHz 2pi,\n",
       " 'ry90p[0]-d1-gauss-xy_angle': 1.571 rad,\n",
       " 'ry90p[0]-d1-gauss-sigma': 1.750 ns,\n",
       " 'ry90p[0]-d1-gauss-t_final': 7.000 ns,\n",
       " 'ry90p[0]-d1-carrier-freq': 5.050 GHz 2pi,\n",
       " 'ry90p[0]-d1-carrier-framechange': 0.000 rad,\n",
       " 'rx90m[0]-d1-gauss-amp': 450.000 mV,\n",
       " 'rx90m[0]-d1-gauss-delta': -1.000 ,\n",
       " 'rx90m[0]-d1-gauss-freq_offset': -50.500 MHz 2pi,\n",
       " 'rx90m[0]-d1-gauss-xy_angle': 3.142 rad,\n",
       " 'rx90m[0]-d1-gauss-sigma': 1.750 ns,\n",
       " 'rx90m[0]-d1-gauss-t_final': 7.000 ns,\n",
       " 'rx90m[0]-d1-carrier-freq': 5.050 GHz 2pi,\n",
       " 'rx90m[0]-d1-carrier-framechange': 0.000 rad,\n",
       " 'ry90m[0]-d1-gauss-amp': 450.000 mV,\n",
       " 'ry90m[0]-d1-gauss-delta': -1.000 ,\n",
       " 'ry90m[0]-d1-gauss-freq_offset': -50.500 MHz 2pi,\n",
       " 'ry90m[0]-d1-gauss-xy_angle': 4.712 rad,\n",
       " 'ry90m[0]-d1-gauss-sigma': 1.750 ns,\n",
       " 'ry90m[0]-d1-gauss-t_final': 7.000 ns,\n",
       " 'ry90m[0]-d1-carrier-freq': 5.050 GHz 2pi,\n",
       " 'ry90m[0]-d1-carrier-framechange': 0.000 rad}"
      ]
     },
     "execution_count": 5,
     "metadata": {},
     "output_type": "execute_result"
    }
   ],
   "source": [
    "pmap.get_full_params()"
   ]
  },
  {
   "cell_type": "markdown",
   "metadata": {},
   "source": [
    "To access a specific parameter, e.g. the frequency of qubit 1, we use the identifying tuple `('Q1','freq')`."
   ]
  },
  {
   "cell_type": "code",
   "execution_count": 4,
   "metadata": {
    "ExecuteTime": {
     "end_time": "2022-05-30T12:58:45.895931Z",
     "start_time": "2022-05-30T12:58:45.888329Z"
    }
   },
   "outputs": [
    {
     "data": {
      "text/plain": [
       "5.000 GHz 2pi"
      ]
     },
     "execution_count": 4,
     "metadata": {},
     "output_type": "execute_result"
    }
   ],
   "source": [
    "pmap.get_parameter(('Q1','freq'))"
   ]
  },
  {
   "cell_type": "markdown",
   "metadata": {},
   "source": [
    "## The opt_map\n",
    "To deal with multiple parameters we use the `opt_map`, a nested list of identifyers."
   ]
  },
  {
   "cell_type": "code",
   "execution_count": 5,
   "metadata": {
    "ExecuteTime": {
     "end_time": "2022-05-30T12:58:55.003928Z",
     "start_time": "2022-05-30T12:58:55.001148Z"
    }
   },
   "outputs": [],
   "source": [
    "opt_map = [\n",
    "    [\n",
    "        (\"Q1\", \"freq\")\n",
    "    ],\n",
    "    [\n",
    "        (\"Q1\", \"anhar\")\n",
    "    ],  \n",
    "]"
   ]
  },
  {
   "cell_type": "markdown",
   "metadata": {},
   "source": [
    "Here, we get a list of the parameter values:"
   ]
  },
  {
   "cell_type": "code",
   "execution_count": 6,
   "metadata": {
    "ExecuteTime": {
     "end_time": "2022-05-30T12:59:01.331925Z",
     "start_time": "2022-05-30T12:59:01.325399Z"
    }
   },
   "outputs": [
    {
     "data": {
      "text/plain": [
       "[5.000 GHz 2pi, -210.000 MHz 2pi]"
      ]
     },
     "execution_count": 6,
     "metadata": {},
     "output_type": "execute_result"
    }
   ],
   "source": [
    "pmap.get_parameters(opt_map)"
   ]
  },
  {
   "cell_type": "markdown",
   "metadata": {},
   "source": [
    "Let's look at the amplitude values of two gaussian control pulses, rotations about the $X$ and $Y$ axes repsectively."
   ]
  },
  {
   "cell_type": "code",
   "execution_count": 7,
   "metadata": {
    "ExecuteTime": {
     "end_time": "2022-05-30T12:59:09.199936Z",
     "start_time": "2022-05-30T12:59:09.195705Z"
    }
   },
   "outputs": [],
   "source": [
    "opt_map = [\n",
    "    [\n",
    "        ('rx90p[0]','d1','gauss','amp')\n",
    "    ],\n",
    "    [\n",
    "        ('ry90p[0]','d1','gauss','amp')\n",
    "    ],  \n",
    "]"
   ]
  },
  {
   "cell_type": "code",
   "execution_count": 8,
   "metadata": {
    "ExecuteTime": {
     "end_time": "2022-05-30T12:59:12.403947Z",
     "start_time": "2022-05-30T12:59:12.396213Z"
    }
   },
   "outputs": [
    {
     "data": {
      "text/plain": [
       "[450.000 mV, 450.000 mV]"
      ]
     },
     "execution_count": 8,
     "metadata": {},
     "output_type": "execute_result"
    }
   ],
   "source": [
    "pmap.get_parameters(opt_map)"
   ]
  },
  {
   "cell_type": "markdown",
   "metadata": {},
   "source": [
    "We can set the parameters to new values."
   ]
  },
  {
   "cell_type": "code",
   "execution_count": 9,
   "metadata": {
    "ExecuteTime": {
     "end_time": "2022-05-30T12:59:24.631927Z",
     "start_time": "2022-05-30T12:59:24.625858Z"
    }
   },
   "outputs": [],
   "source": [
    "pmap.set_parameters([0.5, 0.6], opt_map)"
   ]
  },
  {
   "cell_type": "code",
   "execution_count": 10,
   "metadata": {
    "ExecuteTime": {
     "end_time": "2022-05-30T12:59:28.819927Z",
     "start_time": "2022-05-30T12:59:28.813359Z"
    }
   },
   "outputs": [
    {
     "data": {
      "text/plain": [
       "[500.000 mV, 600.000 mV]"
      ]
     },
     "execution_count": 10,
     "metadata": {},
     "output_type": "execute_result"
    }
   ],
   "source": [
    "pmap.get_parameters(opt_map)"
   ]
  },
  {
   "cell_type": "markdown",
   "metadata": {},
   "source": [
    "The opt_map also allows us to specify that two parameters should have identical values. Here, let's demand our $X$ and $Y$ rotations use the same amplitude."
   ]
  },
  {
   "cell_type": "code",
   "execution_count": 11,
   "metadata": {
    "ExecuteTime": {
     "end_time": "2022-05-30T13:00:14.055929Z",
     "start_time": "2022-05-30T13:00:14.051189Z"
    }
   },
   "outputs": [],
   "source": [
    "opt_map_ident = [\n",
    "    [\n",
    "        ('rx90p[0]','d1','gauss','amp'),\n",
    "        ('ry90p[0]','d1','gauss','amp')\n",
    "    ],\n",
    "]"
   ]
  },
  {
   "cell_type": "markdown",
   "metadata": {},
   "source": [
    "The grouping here means that these parameters share their numerical value."
   ]
  },
  {
   "cell_type": "code",
   "execution_count": 37,
   "metadata": {
    "ExecuteTime": {
     "end_time": "2022-05-30T13:25:46.143927Z",
     "start_time": "2022-05-30T13:25:46.134794Z"
    }
   },
   "outputs": [
    {
     "data": {
      "text/plain": [
       "[432.000 mV]"
      ]
     },
     "execution_count": 37,
     "metadata": {},
     "output_type": "execute_result"
    }
   ],
   "source": [
    "pmap.set_parameters([0.432], opt_map_ident)\n",
    "pmap.get_parameters(opt_map_ident)"
   ]
  },
  {
   "cell_type": "code",
   "execution_count": 38,
   "metadata": {
    "ExecuteTime": {
     "end_time": "2022-05-30T13:25:46.919931Z",
     "start_time": "2022-05-30T13:25:46.914770Z"
    }
   },
   "outputs": [
    {
     "data": {
      "text/plain": [
       "[432.000 mV, 432.000 mV]"
      ]
     },
     "execution_count": 38,
     "metadata": {},
     "output_type": "execute_result"
    }
   ],
   "source": [
    "pmap.get_parameters(opt_map)"
   ]
  },
  {
   "cell_type": "markdown",
   "metadata": {},
   "source": [
    "During an optimization, the varied parameters do not change, so we fix the opt_map"
   ]
  },
  {
   "cell_type": "code",
   "execution_count": 39,
   "metadata": {
    "ExecuteTime": {
     "end_time": "2022-05-30T13:25:48.607932Z",
     "start_time": "2022-05-30T13:25:48.602767Z"
    }
   },
   "outputs": [],
   "source": [
    "pmap.set_opt_map(opt_map)"
   ]
  },
  {
   "cell_type": "code",
   "execution_count": 63,
   "metadata": {
    "ExecuteTime": {
     "end_time": "2022-05-30T13:27:00.967948Z",
     "start_time": "2022-05-30T13:27:00.959283Z"
    }
   },
   "outputs": [
    {
     "data": {
      "text/plain": [
       "[500.000 mV, 400.000 mV]"
      ]
     },
     "execution_count": 63,
     "metadata": {},
     "output_type": "execute_result"
    }
   ],
   "source": [
    "pmap.get_parameters()"
   ]
  },
  {
   "cell_type": "markdown",
   "metadata": {},
   "source": [
    "## Optimizer scaling\n",
    "To be independent of the choice of numerical optimizer, they should use the methods"
   ]
  },
  {
   "cell_type": "code",
   "execution_count": 65,
   "metadata": {
    "ExecuteTime": {
     "end_time": "2022-05-30T13:27:15.847927Z",
     "start_time": "2022-05-30T13:27:15.839069Z"
    }
   },
   "outputs": [
    {
     "data": {
      "text/plain": [
       "<tf.Tensor: shape=(2,), dtype=float32, numpy=array([ 0., -1.], dtype=float32)>"
      ]
     },
     "execution_count": 65,
     "metadata": {},
     "output_type": "execute_result"
    }
   ],
   "source": [
    "pmap.get_parameters_scaled()"
   ]
  },
  {
   "cell_type": "markdown",
   "metadata": {},
   "source": [
    "To provide values bound to $[-1, 1]$. Let's set the parameters to their allowed minimum an maximum value with"
   ]
  },
  {
   "cell_type": "code",
   "execution_count": 66,
   "metadata": {
    "ExecuteTime": {
     "end_time": "2022-05-30T13:27:25.583943Z",
     "start_time": "2022-05-30T13:27:25.574444Z"
    }
   },
   "outputs": [],
   "source": [
    "pmap.set_parameters_scaled([1.0,-1.0])"
   ]
  },
  {
   "cell_type": "code",
   "execution_count": 67,
   "metadata": {
    "ExecuteTime": {
     "end_time": "2022-05-30T13:27:26.287924Z",
     "start_time": "2022-05-30T13:27:26.282582Z"
    }
   },
   "outputs": [
    {
     "data": {
      "text/plain": [
       "[600.000 mV, 400.000 mV]"
      ]
     },
     "execution_count": 67,
     "metadata": {},
     "output_type": "execute_result"
    }
   ],
   "source": [
    "pmap.get_parameters()"
   ]
  },
  {
   "cell_type": "markdown",
   "metadata": {},
   "source": [
    "As a safeguard, when setting values outside of the unit range, their physical values get looped back in the specified limits."
   ]
  },
  {
   "cell_type": "code",
   "execution_count": 69,
   "metadata": {
    "ExecuteTime": {
     "end_time": "2022-05-30T13:27:33.555933Z",
     "start_time": "2022-05-30T13:27:33.550097Z"
    }
   },
   "outputs": [],
   "source": [
    "pmap.set_parameters_scaled([2.0, 3.0])"
   ]
  },
  {
   "cell_type": "code",
   "execution_count": 70,
   "metadata": {
    "ExecuteTime": {
     "end_time": "2022-05-30T13:27:34.279930Z",
     "start_time": "2022-05-30T13:27:34.274043Z"
    }
   },
   "outputs": [
    {
     "data": {
      "text/plain": [
       "[500.000 mV, 400.000 mV]"
      ]
     },
     "execution_count": 70,
     "metadata": {},
     "output_type": "execute_result"
    }
   ],
   "source": [
    "pmap.get_parameters()"
   ]
  },
  {
   "cell_type": "markdown",
   "metadata": {
    "heading_collapsed": true
   },
   "source": [
    "## Storing and reading\n",
    "For optimization purposes, we can store and load parameter values in [HJSON](https://hjson.github.io/) format."
   ]
  },
  {
   "cell_type": "code",
   "execution_count": 72,
   "metadata": {
    "ExecuteTime": {
     "end_time": "2022-05-30T13:28:30.631921Z",
     "start_time": "2022-05-30T13:28:30.627692Z"
    },
    "hidden": true
   },
   "outputs": [],
   "source": [
    "pmap.store_values(\"current_vals.c3log\")"
   ]
  },
  {
   "cell_type": "code",
   "execution_count": 73,
   "metadata": {
    "ExecuteTime": {
     "end_time": "2022-05-30T13:28:36.031964Z",
     "start_time": "2022-05-30T13:28:35.895826Z"
    },
    "hidden": true
   },
   "outputs": [
    {
     "name": "stdout",
     "output_type": "stream",
     "text": [
      "{\r\n",
      "  opt_map:\r\n",
      "  [\r\n",
      "    [\r\n",
      "      rx90p[0]-d1-gauss-amp\r\n",
      "    ]\r\n",
      "    [\r\n",
      "      ry90p[0]-d1-gauss-amp\r\n",
      "    ]\r\n",
      "  ]\r\n",
      "  units:\r\n",
      "  [\r\n",
      "    V\r\n",
      "    V\r\n",
      "  ]\r\n",
      "  optim_status:\r\n",
      "  {\r\n",
      "    params:\r\n",
      "    [\r\n",
      "      0.5\r\n",
      "      0.4000000059604645\r\n",
      "    ]\r\n",
      "  }\r\n",
      "}\r\n"
     ]
    }
   ],
   "source": [
    "!cat current_vals.c3log"
   ]
  },
  {
   "cell_type": "code",
   "execution_count": 74,
   "metadata": {
    "ExecuteTime": {
     "end_time": "2022-05-30T13:28:42.751949Z",
     "start_time": "2022-05-30T13:28:42.739347Z"
    },
    "hidden": true
   },
   "outputs": [],
   "source": [
    "pmap.load_values(\"current_vals.c3log\")"
   ]
  },
  {
   "cell_type": "code",
   "execution_count": null,
   "metadata": {
    "hidden": true
   },
   "outputs": [],
   "source": []
  }
 ],
 "metadata": {
  "interpreter": {
   "hash": "8fc56ae400e717d872a76f4d6b257151d16696a9d0a72e6998d355f9b43887c7"
  },
  "kernelspec": {
   "display_name": "SQC_in_Python",
   "language": "python",
   "name": "sqc_in_python"
  },
  "language_info": {
   "codemirror_mode": {
    "name": "ipython",
    "version": 3
   },
   "file_extension": ".py",
   "mimetype": "text/x-python",
   "name": "python",
   "nbconvert_exporter": "python",
   "pygments_lexer": "ipython3",
   "version": "3.7.5"
  },
  "toc": {
   "base_numbering": 1,
   "nav_menu": {},
   "number_sections": true,
   "sideBar": true,
   "skip_h1_title": false,
   "title_cell": "Table of Contents",
   "title_sidebar": "Contents",
   "toc_cell": false,
   "toc_position": {},
   "toc_section_display": true,
   "toc_window_display": true
  },
  "varInspector": {
   "cols": {
    "lenName": 16,
    "lenType": 16,
    "lenVar": 40
   },
   "kernels_config": {
    "python": {
     "delete_cmd_postfix": "",
     "delete_cmd_prefix": "del ",
     "library": "var_list.py",
     "varRefreshCmd": "print(var_dic_list())"
    },
    "r": {
     "delete_cmd_postfix": ") ",
     "delete_cmd_prefix": "rm(",
     "library": "var_list.r",
     "varRefreshCmd": "cat(var_dic_list()) "
    }
   },
   "types_to_exclude": [
    "module",
    "function",
    "builtin_function_or_method",
    "instance",
    "_Feature"
   ],
   "window_display": false
  }
 },
 "nbformat": 4,
 "nbformat_minor": 4
}
